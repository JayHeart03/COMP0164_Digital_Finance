{
 "cells": [
  {
   "cell_type": "markdown",
   "metadata": {},
   "source": [
    "# COMP0164: Digital Finance\n",
    "## Group Coursework\n",
    "\n",
    "If you have set up an **`Anaconda`** environment, don't forget to activate it using:\n",
    "\n",
    "> conda activate digital_finance_env\n",
    "\n",
    "Below are the imports that you will need for the coursework:"
   ]
  },
  {
   "cell_type": "code",
   "execution_count": 3,
   "metadata": {},
   "outputs": [],
   "source": [
    "#Test\n",
    "import datetime\n",
    "import numpy as np\n",
    "import pandas as pd\n",
    "import scipy as sp\n",
    "\n",
    "import yfinance as yf\n",
    "import numpy_financial as npf\n",
    "\n",
    "import matplotlib.pyplot as plt\n",
    "%matplotlib inline"
   ]
  },
  {
   "cell_type": "markdown",
   "metadata": {},
   "source": [
    "## Question 1: Corporate Finance **\\[15 marks\\]**\n",
    "In this question, you are asked to evaluate business and investment ideas.\n",
    "\n",
    "You are tasked with evaluating an investment project proposed by a company called Boogle. During the latest earnings report, Boogle's CFO announced an investment of \\$150 million for a new business expansion project. The project is planned to be financed with an \\$100 million public offering of a 10-year debt and the remainder with an equity offering. You have collected the information necessary to evaluate this project in Exhibits 1 and 2.\n",
    "\n",
    "### Exhibit 1: Relevant Information for Analysis\n",
    "| | |\n",
    "| --- | --- |\n",
    "| Equity risk premium | 4.53% |\n",
    "| Risk-free rate of interest | 3.9% |\n",
    "| Market value of Boogle's debt | \\$1.0 billion |\n",
    "| Market value of Boogle's equity | \\$2.6 billion |\n",
    "| Boogle's equity beta | 1.4 |\n",
    "| Boogle's before-tax cost of debt | 9.2% |\n",
    "| Corporate tax rate | 37.5% |\n",
    "\n",
    "### Exhibit 2: Estimated Project Financials\n",
    "|     | Year 1 | Year 2 | Year 3 |\n",
    "| --- | --- | --- | --- |\n",
    "| Revenue | 98.7 | 110.3 | 112.6 |\n",
    "| Operating Costs | 32  | 36  | 38  |\n",
    "| Depreciation | 16  | 16  | 16  |"
   ]
  },
  {
   "cell_type": "markdown",
   "metadata": {},
   "source": [
    "a.) Calculate the after-tax weighted average cost of capital of Boogle prior to its new project investment. **\\[3 marks\\]**"
   ]
  },
  {
   "cell_type": "markdown",
   "metadata": {},
   "source": [
    "Expected return on equity portion $r_E$ can be calculated by:\n",
    "\n",
    "$$\n",
    "r_E = r_f + \\beta_E (E[r_m] - r_f)\n",
    "$$\n",
    "\n",
    "where \n",
    "- $r_f$ is the risk-free rate of interest \n",
    "- $\\beta_E$ is the equity beta \n",
    "- $E[r_m] - r_f$ can be calculated as the equity risk premium\n",
    "\n",
    "The after-tax weighted average cost of capital (WACC) can be calculated as:\n",
    "\n",
    "$$\n",
    "WACC = r_D (1 - T_c) \\frac{D}{D + E} + r_E \\frac{E}{D + E}\n",
    "$$\n",
    "\n",
    "where \n",
    "- $r_D$ is the before-tax cost of debt\n",
    "- $T_c$ is the corporate tax rate\n",
    "- $D$ is the market value of Boogle's debt\n",
    "- $E$ is the market value of Boogle's equity\n",
    "- $r_E$ is the expected return on equity"
   ]
  },
  {
   "cell_type": "code",
   "execution_count": 4,
   "metadata": {},
   "outputs": [],
   "source": [
    "# Define the variables\n",
    "equity_risk_premium = 4.53 / 100    # Equity risk premium\n",
    "risk_free_rate = 3.9 / 100          # Risk-free rate of interest\n",
    "market_value_debt = 10**9           # Market value of Boogle's debt\n",
    "market_value_equity = 2.6 * 10**9   # Market value of Boogle's equity\n",
    "beta_equity = 1.4                   # Boogle's equity beta\n",
    "expected_return_debt = 9.2 / 100    # Before-tax cost of debt\n",
    "corporate_tax_rate = 0.375          # Corporate tax rate\n"
   ]
  },
  {
   "cell_type": "code",
   "execution_count": 5,
   "metadata": {},
   "outputs": [
    {
     "name": "stdout",
     "output_type": "stream",
     "text": [
      "The after-tax weighted average cost of capital of Boogle is: 8.99%\n"
     ]
    }
   ],
   "source": [
    "def calculate_expected_return_equity(risk_free_rate, equity_beta, equity_risk_premium):\n",
    "    return risk_free_rate + equity_beta * equity_risk_premium\n",
    "\n",
    "def after_tax_WACC(r_d, r_e, t_c, d, e):\n",
    "    return r_d * (1 - t_c) * d / (d + e) + r_e * e / (d + e)\n",
    "\n",
    "\n",
    "expected_return_equity = calculate_expected_return_equity(risk_free_rate, beta_equity, equity_risk_premium)\n",
    "wacc = after_tax_WACC(expected_return_debt, expected_return_equity, corporate_tax_rate, market_value_debt, market_value_equity)\n",
    "\n",
    "print(f\"The after-tax weighted average cost of capital of Boogle is: {wacc:.2%}\")"
   ]
  },
  {
   "cell_type": "code",
   "execution_count": 6,
   "metadata": {},
   "outputs": [],
   "source": [
    "# # This is the testing code from previous year\n",
    "# # Remove it before submitting!!!!!!!!!!!!!!\n",
    "\n",
    "# def WACC(D, E, r_d, t, r_f, beta, r_p):\n",
    "#     w_d = D / (D+E)\n",
    "#     w_e = E / (D+E)\n",
    "#     r_e = r_f + beta * r_p\n",
    "#     return w_d * r_d * (1-t) + w_e * r_e\n",
    "\n",
    "# wacc = WACC(10**9, 2.6*10**9, 0.092, 0.375, 0.039, 1.4, 0.0453)\n",
    "# print('The weighted average cost of capital is: ', '{0:.4%}'.format(wacc))"
   ]
  },
  {
   "cell_type": "markdown",
   "metadata": {},
   "source": [
    "b.) Find Boogle's after-tax asset beta prior to the new project. **\\[2 marks\\]**"
   ]
  },
  {
   "cell_type": "code",
   "execution_count": 7,
   "metadata": {},
   "outputs": [
    {
     "name": "stdout",
     "output_type": "stream",
     "text": [
      "1.1286821705426355\n",
      "The after-tax asset beta prior to the new project is: 1.1287\n"
     ]
    }
   ],
   "source": [
    "# Answer here\n",
    "\n",
    "beta_e = 1.4\n",
    "debt = 1.0*10**9\n",
    "equity = 2.6*10**9\n",
    "tax_rate = 0.375\n",
    "\n",
    "def find_beta_a(beta_e, debt, equity, tax_rate):\n",
    "    return beta_e * (1/(1 + debt*(1-tax_rate)/equity))\n",
    "# v = debt + equity  # total value of the securities\n",
    "# beta_a = beta_e * (1 +  debt*(1-tax_rate)/equity)\n",
    "\n",
    "beta_a = find_beta_a(beta_e, debt, equity, tax_rate)\n",
    "\n",
    "\n",
    "# def find_beta_e(beta_a, debt, equity, tax_rate):\n",
    "#     return beta_a * (1 + debt * (1 - tax_rate) / equity)\n",
    "\n",
    "print(beta_a)\n",
    "print(f\"The after-tax asset beta prior to the new project is: {beta_a:.5}\")\n",
    "# print(find_beta_e(beta_a, debt, equity, tax_rate))"
   ]
  },
  {
   "cell_type": "markdown",
   "metadata": {},
   "source": [
    "c.) Assuming the new project has the same asset beta as the Boogle company in b.), find the the project equity beta. **\\[2 marks\\]**"
   ]
  },
  {
   "cell_type": "markdown",
   "metadata": {},
   "source": [
    "The project equity beta $ \\beta_{pe} $ can be calculated from:\n",
    "\n",
    "$$\n",
    "\\beta_{pe} = \\beta_{asset} \\cdot \\left[1 + (1 - t) \\cdot \\frac{D_p}{E_p}\\right]\n",
    "$$\n",
    "\n",
    "where $ \\beta_{asset} $ is the asset beta, $ t $ is the tax rate, $ D_p $ is the project debt, and $ E_p $ is the project equity.\n",
    "\n",
    "Therefore, we have:\n",
    "\n",
    "$$\n",
    "\\beta_{pe} = 1.12868 \\cdot \\left[1 + (1 - 37.5\\%) \\cdot \\frac{100}{50}\\right] \\\\\n",
    "= 1.12868 \\cdot 2.25 \\\\\n",
    "= 2.53953\n",
    "$$"
   ]
  },
  {
   "cell_type": "code",
   "execution_count": 8,
   "metadata": {},
   "outputs": [
    {
     "name": "stdout",
     "output_type": "stream",
     "text": [
      "Project Equity Beta: 2.53953\n"
     ]
    }
   ],
   "source": [
    "# Answer here\n",
    "def find_beta_pe(beta_a, t, d_p, e_p):\n",
    "    return beta_a * (1 + (1 - t) * d_p / e_p)  # Calculate the equity beta (Beta_E)\n",
    "\n",
    "total = 150 * 10**6  # Total investment\n",
    "d_p = 100 * 10**6    # Debt portion\n",
    "e_p = total - d_p    # Equity portion calculated as total investment minus debt\n",
    "tax_rate = 0.375     # Corporate tax rate (37.5%)\n",
    "\n",
    "project_beta_pe = find_beta_pe(beta_a, tax_rate, d_p, e_p) # Calculate project equity beta\n",
    "\n",
    "print(f\"Project Equity Beta: {project_beta_pe:.5f}\")"
   ]
  },
  {
   "cell_type": "code",
   "execution_count": 9,
   "metadata": {},
   "outputs": [],
   "source": [
    "# # testing code\n",
    "# def beta_project(beta_a, t, D_p, E_p):\n",
    "#     return beta_a * (1+(1-t)*D_p/E_p)\n",
    "\n",
    "# beta_pe = beta_project(beta_a, 0.375, 100, 50)\n",
    "# print('The project equity beta is: ', '{0:.4f}'.format(beta_pe))"
   ]
  },
  {
   "cell_type": "markdown",
   "metadata": {},
   "source": [
    "d.) The formula for project after-tax free cash flow at time t is\n",
    "\n",
    "$$ FCF = (\\text{Revenue}-\\text{Operating Costs}-\\text{Depreciation})\\times(1-\\text{Tax Rate})+\\text{Depreciation}.$$\n",
    "\n",
    "Define a Python function to calculate the project FCFs and demonstrate that the after-tax free cash flow generated for the next three years are $47.7 million, $52.4 million, and $52.6 million respectively. **\\[2 marks\\]**"
   ]
  },
  {
   "cell_type": "code",
   "execution_count": 10,
   "metadata": {},
   "outputs": [
    {
     "name": "stdout",
     "output_type": "stream",
     "text": [
      "The FCF for year 1 is $47.7 million\n",
      "The FCF for year 2 is $52.4 million\n",
      "The FCF for year 3 is $52.6 million\n"
     ]
    }
   ],
   "source": [
    "# Answer here\n",
    "#Revenues are 98.7, 110.3, 112.6 \n",
    "#Operating Costs are 32, 36, 38\n",
    "#Depreciation is 16, 16, 16\n",
    "#Tax Rate is 0.375\n",
    "#The initial investment is 150 million\n",
    "#FCF = (Revenues - Operating Costs - Depreciation) * (1 - Tax Rate) + Depreciation\n",
    "#The Values from required are stored in the lists below\n",
    "revenues = [98.7, 110.3, 112.6]\n",
    "operating_costs = [32, 36, 38]\n",
    "depreciation = [16, 16, 16]\n",
    "#The Free Cash Flow for each year is appended to this list so that it can be used later in the next section to find NPV and IRR\n",
    "FCFs = [-150]\n",
    "def FCF(revenue, operating_cost, depreciation, tax_rate):\n",
    "    #The formula mentioned above is used in this function to calculate the Free Cash Flow\n",
    "    FCF = (revenue - operating_cost - depreciation) * (1 - tax_rate) + depreciation\n",
    "    return FCF #The function returns the Free Cash Flow\n",
    "#The for loop is used to calculate the Free Cash Flow for each year\n",
    "for i in range(len(revenues)):\n",
    "    #The FCF function is called to calculate the Free Cash Flow for each year\n",
    "    fcf= FCF(revenues[i], operating_costs[i], depreciation[i], 0.375)\n",
    "    #The calculated FCF is appended to the FCFs list\n",
    "    FCFs.append(fcf)\n",
    "    #The FCF for each year is printed\n",
    "    print(\"The FCF for year {i} is ${fcf:.1f} million\".format(i=i+1, fcf=fcf))"
   ]
  },
  {
   "cell_type": "markdown",
   "metadata": {},
   "source": [
    "e.) Find the project NPV and IRR with the next three years after-tax free cash flow given in d.).**\\[3 marks\\]**\n",
    "\n",
    "The NPV formula:\n",
    "\n",
    "$$\n",
    "NPV = \\sum_{t=0}^{n} \\frac{FCF_t}{(1 + r)^t} - C_0\n",
    "$$\n",
    "\n",
    "\n",
    "Where:\n",
    "- $C_0$ : the initial investment\n",
    "\n",
    "The IRR formula:\n",
    "\n",
    "$$\n",
    "0 = \\sum_{t=0}^{n} \\frac{FCF_t}{(1 + IRR)^t}\n",
    "$$"
   ]
  },
  {
   "cell_type": "code",
   "execution_count": 11,
   "metadata": {},
   "outputs": [
    {
     "name": "stdout",
     "output_type": "stream",
     "text": [
      "The Net Present Value (NPV) of the project is: $-21.46 million\n",
      "The Internal Rate of Return (IRR) of the project is: 0.899%\n"
     ]
    }
   ],
   "source": [
    "# Answer here\n",
    "#The Net Present Value (NPV) is calculated using the numpy_financial library's npf.npv() function\n",
    "#The IRR is calculated using the numpy_financial library's npf.irr() function\n",
    "\n",
    "# Ensure that the cell containing the definition of wacc is executed before this cell\n",
    "npv = npf.npv(wacc, FCFs)\n",
    "\n",
    "irr = npf.irr(FCFs)\n",
    "\n",
    "print(\"The Net Present Value (NPV) of the project is: ${npv:.2f} million\".format(npv=npv))\n",
    "print(\"The Internal Rate of Return (IRR) of the project is: {irr:.3%}\".format(irr=irr))\n",
    "\n"
   ]
  },
  {
   "cell_type": "markdown",
   "metadata": {},
   "source": [
    "Assume the following is a dividend-paying stock.\n",
    "\n",
    "### Stock:\n",
    "Atat Steel is in the steel manufacturing sector with a required rate of return of 7.35%. You estimate that if the economy is booming, the company’s current annual dividend of $0.8 per share will grow 10.5% a year for the next four years and then stabilize at a 3.5% growth rate a year indefinitely. However, if the economy falls into a recession, then Atat Steel will not likely experience the elevated 10.5% short-run growth and instead will grow by 3.5% indefinitely."
   ]
  },
  {
   "cell_type": "markdown",
   "metadata": {},
   "source": [
    "f.) Use the discount dividend method and find the current value of Atat Steel stock under both economic conditions. **\\[3 marks\\]**\n",
    "\n",
    "The **booming economy scenario**: in order to find the dividened for the first 4 years we use Multi - Staged Dividened Discount Model with the formula\n",
    "\n",
    "$$\n",
    "P_0 = \\sum_{t=1}^H \\frac{D_t}{(1 + r)^t} + \\frac{D_H (1 + g_2)}{(r - g_2)(1 + r)^H}\n",
    "$$\n",
    "\n",
    "$$ \n",
    "Dt = D(t-1) \\times (1 + g_1)^t \n",
    "$$\n",
    "\n",
    "\n",
    "Where:\n",
    "- $P_0$ : Current price of the stock.\n",
    "- $D_0$ : Current dividend.\n",
    "- $g_1$ : Short-term growth rate.\n",
    "- $g_2$: Long-term growth rate.\n",
    "- $r$: Required rate of return.\n",
    "- $H$ : Number of boom years\n",
    "- $D_t$ : Dividened \n",
    "\n",
    "The the **recession** scenario: in order to find the dividened the Constant Growth Dividened Method is used as demonstrated below.\n",
    "$$\n",
    "P_0 = \\frac{D_0 \\times  (1 + g_2)}{(r - g_2)}\n",
    "$$\n",
    "\n",
    "Where:\n",
    "- $P_0$: Current price of the stock.\n",
    "- $D_0$: Current dividend.\n",
    "- $g_2$: Constant growth rate.\n",
    "- $r$: Required rate of return.\n",
    "\n",
    "\n"
   ]
  },
  {
   "cell_type": "code",
   "execution_count": 12,
   "metadata": {},
   "outputs": [
    {
     "name": "stdout",
     "output_type": "stream",
     "text": [
      "The price of the stock in the case of booming economy is: $27.59\n",
      "The price of the stock in the case of recession economy is: $21.51\n"
     ]
    }
   ],
   "source": [
    "# Answer here \n",
    "\n",
    "#Initialise the parameters for both scenarios\n",
    "first_dividend = 0.8\n",
    "required_rate_of_return = 0.0735\n",
    "growth_rate = 0.035\n",
    "\n",
    "#Function to find the dividends for the next year when there is growth\n",
    "def Next_year_dividend(dividend, growth_rate):\n",
    "\n",
    "    return dividend * (1 + growth_rate)\n",
    "\n",
    "#Function to find the perpetual dividend\n",
    "def perpetual_dividend(dividend, growth_rate, required_rate_of_return):\n",
    "    return dividend * (1 + growth_rate) / (required_rate_of_return - growth_rate)\n",
    "\n",
    "#Function to find the dividends for each year during the growth period\n",
    "def Dividends_growth_period(first_dividend, boom_years):\n",
    "    boom_dividends = []\n",
    "    for i in range(boom_years):\n",
    "        #The first year dividend is calculated using the formula: Dividend * (1 + g)\n",
    "        if i == 0:\n",
    "            next_year_dividend = Next_year_dividend(first_dividend, growth_rate_boom)\n",
    "        #The subsequent year dividends are calculated using the formula: Previous year Dividend * (1 + g)^the current year\n",
    "        else:\n",
    "            next_year_dividend = Next_year_dividend(boom_dividends[-1], growth_rate_boom)\n",
    "        boom_dividends.append(next_year_dividend)\n",
    "    return boom_dividends\n",
    "\n",
    "#Function to find the NPV of the dividends during the growth period\n",
    "def NPV_dividends_growth(boom_dividends, required_rate_of_return):\n",
    "    boom_dividends_npv = 0\n",
    "    for i in range(len(boom_dividends)):\n",
    "        #The NPV of the dividends is calculated using the formula: Dividend of year t / (1 + r) ^ t\n",
    "        boom_dividends_npv += boom_dividends[i] / ((1 + required_rate_of_return) ** (i + 1))\n",
    "    return boom_dividends_npv\n",
    "\n",
    "#This section is for the Booming economy:\n",
    "\n",
    "#Initialise the parameters for the booming economy\n",
    "years_boom = 4\n",
    "growth_rate_boom = 0.105\n",
    "\n",
    "#Calculate the dividends for each year during the booming economy\n",
    "boom_dividends = Dividends_growth_period(first_dividend, years_boom)\n",
    "\n",
    "#Find the NPV for the first 4 years of the booming economy:\n",
    "boom_dividends_npv = NPV_dividends_growth(boom_dividends, required_rate_of_return)\n",
    "\n",
    "#Find the perpetual growth rate for the dividends during the booming economy\n",
    "perpetual_boom = perpetual_dividend(boom_dividends[-1], growth_rate, required_rate_of_return)\n",
    "\n",
    "#Find the NPV of the perpetual growth rate for the dividends during the booming economy\n",
    "perpetual_boom_npv = perpetual_boom/((1+required_rate_of_return)**years_boom)\n",
    "\n",
    "#Calculate the terminal value of the company during the booming economy\n",
    "\n",
    "P0_boom = boom_dividends_npv + perpetual_boom_npv\n",
    "\n",
    "print(\"The price of the stock in the case of booming economy is: ${P0_boom:.2f}\".format(P0_boom=P0_boom))\n",
    "\n",
    "#This section is for the Recession economy:\n",
    "\n",
    "P0_recession = perpetual_dividend(first_dividend, growth_rate, required_rate_of_return)\n",
    "\n",
    "print(\"The price of the stock in the case of recession economy is: ${P0_recession:.2f}\".format(P0_recession=P0_recession))\n",
    "\n"
   ]
  },
  {
   "cell_type": "code",
   "execution_count": 13,
   "metadata": {},
   "outputs": [
    {
     "data": {
      "text/plain": [
       "\"def compute_npv(CF, r):\\n    npv = CF[0]\\n    for i in range(1,len(CF)):\\n        npv += CF[i] / (1+r)**i\\n    return npv\\n\\nD0 = 0.8\\ng1 = 0.105\\ng2 = 0.035\\nr = 0.0735\\n\\nD1 = D0 * (1+g1)\\nD2 = D0 * (1+g1)**2\\nD3 = D0 * (1+g1)**3\\nD4 = D0 * (1+g1)**4\\nD5 = D0 * (1+g1)**4 * (1+g2)\\n\\nP4 = D5 / (r-g2)\\n\\nP0_booming = compute_npv([0, D1, D2, D3, D4+P4], r)\\nprint('The current value when the economy is booming: ', '{0:0.2f}'.format(P0_booming))\\n\\nP0_recession = D0 * (1+g2) / (r-g2)\\nprint('The current value when the economy falls into a recession: ', '{0:0.2f}'.format(P0_recession))\""
      ]
     },
     "execution_count": 13,
     "metadata": {},
     "output_type": "execute_result"
    }
   ],
   "source": [
    "#Delete this cell before submitting!!!!!!!!!\n",
    "#Test case for our code and we get the same result using the take home exam code\n",
    "\"\"\"def compute_npv(CF, r):\n",
    "    npv = CF[0]\n",
    "    for i in range(1,len(CF)):\n",
    "        npv += CF[i] / (1+r)**i\n",
    "    return npv\n",
    "\n",
    "D0 = 0.8\n",
    "g1 = 0.105\n",
    "g2 = 0.035\n",
    "r = 0.0735\n",
    "\n",
    "D1 = D0 * (1+g1)\n",
    "D2 = D0 * (1+g1)**2\n",
    "D3 = D0 * (1+g1)**3\n",
    "D4 = D0 * (1+g1)**4\n",
    "D5 = D0 * (1+g1)**4 * (1+g2)\n",
    "\n",
    "P4 = D5 / (r-g2)\n",
    "\n",
    "P0_booming = compute_npv([0, D1, D2, D3, D4+P4], r)\n",
    "print('The current value when the economy is booming: ', '{0:0.2f}'.format(P0_booming))\n",
    "\n",
    "P0_recession = D0 * (1+g2) / (r-g2)\n",
    "print('The current value when the economy falls into a recession: ', '{0:0.2f}'.format(P0_recession))\"\"\""
   ]
  },
  {
   "cell_type": "markdown",
   "metadata": {},
   "source": [
    "## Question 2: Bonds and Fixed Income **\\[16 marks\\]**\n",
    "In this question, you are given background information on some bonds and you tasked with calculating crucial data about them.\n",
    "\n",
    "### Exhibit 3: Current Par Rates and Spot Rates\n",
    "| Maturity | Par Rate (Annual) | Spot Rate (Annual) |\n",
    "| --- | --- | --- |\n",
    "| 1 year | 2.50% | 2.50% |\n",
    "| 2 years | 3.02% | 3.00% |\n",
    "| 3 years | 3.53% | 3.50% |\n",
    "| 4 years | 3.98% | 4.00% |\n",
    "| 5 years | 4.42% | ? |\n",
    "\n",
    "### Exhibit 4: Information for Selected Bonds\n",
    "| Bond Name | Maturity | Coupon (Annual) | Type of Bond |\n",
    "| --- | --- | --- | --- |\n",
    "| Bond A (Face value $1,000) | 3 years | 6.78% | Option-free |\n",
    "| Bond B | 3 years | 4.30% | Callable at par on start of year 1 and tear 2 |\n",
    "| Bond C | 3 years | 4.30% | Putable at par on start of year 1 and year 2 |\n",
    "\n",
    "### Exhibit 5: Binomial Interest Rate Tree, based on an estimated interest rate volatility of 10%, where ‘u’ represents an up move and ‘d’ represents a down move.\n",
    "| Year 0 | Year 1 | Year 2 |\n",
    "| --- | --- | --- |\n",
    "| 2.3400% (r) | 3.5930% (ru node) | 4.6540% (ruu node) |\n",
    "|  | 2.9417% (rd node) | 3.8043% (rud node) |\n",
    "|  |  | 3.1254% (rdd node) |"
   ]
  },
  {
   "cell_type": "markdown",
   "metadata": {},
   "source": [
    "a.) Based on Exhibit 3, find the five-year spot rate. **\\[2 marks\\]**\n",
    "\n",
    "To calculate the five-year spot rate, we use the following formula\n",
    "\n",
    "$$\n",
    "P = \\sum_{t=1}^{5} \\frac{CF_t}{(1 + S_t)^t} + \\frac{P}{(1 + S_5)^5}\n",
    "$$\n",
    "\n",
    "Where:\n",
    "- $P$: Price of the bond (assume $P = 100 $ for par value).\n",
    "- $CF_t$: Annual coupon payment ($(C = 100 \\times \\text{Par Rate}$)).\n",
    "- $S_t$: Known spot rates for $(t = 1, 2, 3, 4)$.\n",
    "- $S_5$: The unknown spot rate for 5 years.\n",
    "\n",
    "Steps:\n",
    "$$\n",
    "P = \\frac{CF_1}{(1+S_1)}+ \\frac{CF_2}{(1+S_2)^2}+ \\frac{CF_3}{(1+S_3)^3}+ \\frac{CF_4}{(1+S_4)^4}+ \\frac{CF_5 + P}{(1+S_5)^5}\n",
    "$$\n",
    "\n",
    "$$\n",
    "100 = \\frac{CF_1}{(1+S_1)}+ \\frac{CF_2}{(1+S_2)^2}+ \\frac{CF_3}{(1+S_3)^3}+ \\frac{CF_4}{(1+S_4)^4}+ \\frac{CF_5 + 100}{(1+S_5)^5}\n",
    "$$\n",
    "\n",
    "Where:\n",
    "\n",
    "- $CF$: $0.0442 \\times\\ 100$\n",
    "$$\n",
    "100 = \\frac{(4.42)}{(1+0.025)}+ \\frac{(4.42)}{(1+0.03)^2}+ \\frac{(4.42)}{(1+0.035)^3}+ \\frac{(4.42)}{(1+0.04)^4}+ \\frac{(4.42 + 100)}{(1+S_5)^5}\n",
    "$$\n",
    "\n",
    "$$\n",
    " (1+S_5)^5 = 1.247\n",
    "\n"
   ]
  },
  {
   "cell_type": "code",
   "execution_count": 14,
   "metadata": {},
   "outputs": [
    {
     "name": "stdout",
     "output_type": "stream",
     "text": [
      "16.24329032372646\n",
      "1.2467060896206614\n",
      "The five-year spot rate is: 4.509%\n"
     ]
    }
   ],
   "source": [
    "# Answer here\n",
    "#The parameters for the calculation are defined\n",
    "spot_rate_list = [0.025, 0.03, 0.035, 0.04]\n",
    "\n",
    "par_rate = 0.0442\n",
    "#Assuming a face value of $100 to calculate the five-year spot rate\n",
    "p = 100\n",
    "\n",
    "def find_spot_rate(p, par_rate, spot_rate_list):\n",
    "    #The spot rate for each year is calculated usiing the formula: (p*par) / (1 + spot_rate) ^ t\n",
    "    total_spot_rate_vals = 0\n",
    "    for i in range(len(spot_rate_list)):\n",
    "        total_spot_rate_vals += (p * par_rate)/((1 + spot_rate_list[i])**(i+1))\n",
    "    print(total_spot_rate_vals)\n",
    "    #The formula (1+S5)^5 = (100+4.42)/(100 - 16.24329032372646)\n",
    "    spot_rate_val_power = (p + (par_rate * p))/(p - total_spot_rate_vals)\n",
    "    print(spot_rate_val_power)\n",
    "    #The spot rate for the 5th year is calculated using S_5 = ((100 + 4.42)/(100 - total_spot_rate_vals)) ^ (1/5) - 1\n",
    "    spot_rate = spot_rate_val_power**(1/(len(spot_rate_list)+1)) - 1\n",
    "\n",
    "    return spot_rate\n",
    "\n",
    "five_year_spot_rate = find_spot_rate(p, par_rate, spot_rate_list)\n",
    "\n",
    "print(\"The five-year spot rate is: {five_year_spot_rate:.3%}\".format(five_year_spot_rate=five_year_spot_rate))\n",
    "\n",
    "\n",
    "\n"
   ]
  },
  {
   "cell_type": "code",
   "execution_count": 15,
   "metadata": {},
   "outputs": [
    {
     "data": {
      "text/plain": [
       "\"def compute_spot_rate(spot_rate_list, par_rate):\\n    f = 1\\n    cf = 1 * par_rate\\n    for i in range(len(spot_rate_list)):\\n        f -= cf / ((1+spot_rate_list[i])**(i+1))\\n    print(f)\\n    f = (1+cf) / f\\n    print(f)\\n    s = f**(1/(len(spot_rate_list)+1)) - 1\\n    return s\\nspot_rate_list = [0.025, 0.03, 0.035, 0.04]\\n\\npar_rate = 0.0442\\ns_5 = compute_spot_rate(spot_rate_list, par_rate)\\nprint('The five-year spot rate is: ', '{0:.4%}'.format(s_5))\""
      ]
     },
     "execution_count": 15,
     "metadata": {},
     "output_type": "execute_result"
    }
   ],
   "source": [
    "#Delete this cell before submitting!!!!!!!!!\n",
    "#Test case for our code and we get the same result using the take home exam guy code\n",
    "\"\"\"def compute_spot_rate(spot_rate_list, par_rate):\n",
    "    f = 1\n",
    "    cf = 1 * par_rate\n",
    "    for i in range(len(spot_rate_list)):\n",
    "        f -= cf / ((1+spot_rate_list[i])**(i+1))\n",
    "    print(f)\n",
    "    f = (1+cf) / f\n",
    "    print(f)\n",
    "    s = f**(1/(len(spot_rate_list)+1)) - 1\n",
    "    return s\n",
    "spot_rate_list = [0.025, 0.03, 0.035, 0.04]\n",
    "\n",
    "par_rate = 0.0442\n",
    "s_5 = compute_spot_rate(spot_rate_list, par_rate)\n",
    "print('The five-year spot rate is: ', '{0:.4%}'.format(s_5))\"\"\"\n"
   ]
  },
  {
   "cell_type": "markdown",
   "metadata": {},
   "source": [
    "b.) Assuming the law of one price, use Exhibit 3 to calculate the compounded forward rate (annualy compounded) of a one-year loan starting in three years. **\\[1 mark\\]**\n",
    "\n",
    "$$\n",
    "f_(34) = \\frac {(1 + S_4)^4}{(1 + S_3)^3} -1\n",
    "$$\n",
    "Where\n",
    "- $S_4$: 4.00%\n",
    "- $S_3$: 3.50%\n",
    "$$\n",
    "f_(34) = \\frac {(1 + 0.04)^4}{(1 + 0.035)^3} -1\n",
    "$$\n"
   ]
  },
  {
   "cell_type": "code",
   "execution_count": 16,
   "metadata": {},
   "outputs": [
    {
     "name": "stdout",
     "output_type": "stream",
     "text": [
      "The forward rate for a one-year loan made in three years is: 5.5145%\n"
     ]
    }
   ],
   "source": [
    "# Answer here\n",
    "\n",
    "#The parameters for the calculation are defined\n",
    "spot_rate_year_3 = 0.035\n",
    "spot_rate_year_4 = 0.04\n",
    "\n",
    "#The spot rate for the 3rd year is 3.5% and the spot rate for the 4th year is 4% based on Exhibit 3\n",
    "\n",
    "def find_forward_rate(spot_rate_year_3, spot_rate_year_4):\n",
    "    #The forward rate for the 4th year is calculated using the formula: (1 + spot_rate_year_4) ^ 4 / (1 + spot_rate_year_3) ^ 3 - 1\n",
    "    forward_rate = ((1 + spot_rate_year_4) ** 4 / (1 + spot_rate_year_3) ** 3) - 1\n",
    "\n",
    "    return forward_rate\n",
    "\n",
    "forward_rate = find_forward_rate(spot_rate_year_3, spot_rate_year_4)\n",
    "\n",
    "print(\"The forward rate for a one-year loan made in three years is: {spot_rate_one_year_loan:.4%}\".format(spot_rate_one_year_loan=forward_rate))"
   ]
  },
  {
   "cell_type": "markdown",
   "metadata": {},
   "source": [
    "c.) Given spot rates for one-, two-, and three-year zero bonds, how many forward rates can be calculated? Please list the compounded forward rates (annualy compounded) that can be calculated and briefly explain your answer. **\\[3 marks\\]**\n",
    "\n",
    "Forward rate formula is: \n",
    "\n",
    "$$\n",
    "RF = \\frac {R2 \\times T2 - R1 \\times T1}{T2 - T1}\n",
    "$$"
   ]
  },
  {
   "cell_type": "code",
   "execution_count": 17,
   "metadata": {},
   "outputs": [
    {
     "data": {
      "text/plain": [
       "'\\nThe first forward rate can be calcualted for a one year loan starting in year 0 (f0,1 = S1)\\nThe second forward rate can be calcualted for a one year loan starting year 1 (f1,2)\\nThe third forward rate can be calcualted for a one year loan starting year 2 (f2,3)\\nA fourth forward rate can be calcualted for a two year loan spanning for 2 years starting in year 1 until year 3 (f1,3)\\n\\nf(0,1) = S1 = 0.025\\nf(1,2) = (1+S2)^2 / (1+S1)^1 - 1 \\nf(2,3) = (1+S3)^3 / (1+S2)^2 - 1\\nf(1,3) = (1+S3)^3 / (1+S1)^1 - 1\\n\\n'"
      ]
     },
     "execution_count": 17,
     "metadata": {},
     "output_type": "execute_result"
    }
   ],
   "source": [
    "# Answer here\n",
    "\"\"\"\n",
    "The first forward rate can be calcualted for a one year loan starting in year 0 (f0,1 = S1)\n",
    "The second forward rate can be calcualted for a one year loan starting year 1 (f1,2)\n",
    "The third forward rate can be calcualted for a one year loan starting year 2 (f2,3)\n",
    "A fourth forward rate can be calcualted for a two year loan spanning for 2 years starting in year 1 until year 3 (f1,3)\n",
    "\n",
    "f(0,1) = S1 = 0.025\n",
    "f(1,2) = (1+S2)^2 / (1+S1)^1 - 1 \n",
    "f(2,3) = (1+S3)^3 / (1+S2)^2 - 1\n",
    "f(1,3) = (1+S3)^3 / (1+S1)^1 - 1\n",
    "\n",
    "\"\"\""
   ]
  },
  {
   "cell_type": "markdown",
   "metadata": {},
   "source": [
    "d.) Find the yield to maturity for Bond A. **\\[4 marks\\]**\n",
    "\n",
    "In order to calculate yield to maturity of for Bond A, the following formula is used: \n",
    "\n",
    "$$\n",
    "PV = \\sum_{t = 1}^n \\frac{C}{(1 + y)^t} + \\frac{P}{(1+y)^n}\n",
    "$$\n",
    "\n",
    "Where\n",
    "- $PV$ : Present value or price of the bond \n",
    "- $P$ : Face value of the bond (In the case of Bond A = $1000)\n",
    "- $C$ : Annual coupon payments (in the case of Bond A: $1000 \\times 6.78% = $67.8)\n",
    "- $y$ : Yield to maturity of the bond\n",
    "- $n$ : Number of periods to maturity (In case of Bond A this is 3 years)\n",
    "\n",
    "$$\n",
    "1093.14 = \\frac{67.8}{(1 + 0.025)} + \\frac{67.8}{(1 + 0.03)^2} + \\frac{67.8}{(1 + 0.035)^3} + \\frac{1000}{(1 + 0.035)^3}\n",
    "$$\n",
    "$$\n",
    "1093.14 = \\frac{67.8}{(1 + y)} + \\frac{67.8}{(1 + y)^2} + \\frac{67.8}{(1 + y)^3} + \\frac{1000}{(1 + y)^3}\n",
    "$$"
   ]
  },
  {
   "cell_type": "code",
   "execution_count": 18,
   "metadata": {},
   "outputs": [
    {
     "name": "stdout",
     "output_type": "stream",
     "text": [
      "The yield to maturity of Bond A is: 3.456%\n"
     ]
    }
   ],
   "source": [
    "# Answer here\n",
    "#Defining the spot rates for Bond A\n",
    "face_val = 1000\n",
    "coupan_rate = 0.0678\n",
    "maturity = 3\n",
    "spot_rate_lst = [0.025, 0.03, 0.035]\n",
    "#Defining the function to find the present value of the bond\n",
    "def find_PV(face_val, coupan, maturity, spot_rates):\n",
    "    #The present value of the bond is calculated using the formula: (C / (1 + r) ^ t) + (F / (1 + r) ^ t)\n",
    "    coupans = coupan * face_val\n",
    "\n",
    "    PV = 0\n",
    "    for i in range(len(spot_rates)+1):\n",
    "        #The present value of the coupan is calculated for each year and also the present value of the face value for the last year is calculated then all are added to get the present value of the bond\n",
    "        if i == len(spot_rates)-1:\n",
    "            PV += (face_val + coupan) / ((1 + spot_rates[i-1]) ** (i))\n",
    "            break\n",
    "        else:\n",
    "            PV += coupans / ((1 + spot_rates[i]) ** (i+1))\n",
    "    return PV\n",
    "PV = find_PV(face_val, coupan_rate, maturity, spot_rate_list)\n",
    "\n",
    "#Define function to find the yield to maturity\n",
    "\n",
    "def Find_ytm(PV, face_val, coupan, maturity):\n",
    "    #Find the values for the bond to calculate the yield to maturity\n",
    "    vals = [-PV]\n",
    "    #Calculate the coupan for each year \n",
    "    coupans = coupan * face_val\n",
    "    #Append the coupan for each year to the list of values and the face value for the last year\n",
    "    for i in range(maturity):\n",
    "        if i == maturity-1:\n",
    "            vals.append(face_val + coupans)\n",
    "        else:\n",
    "            vals.append(coupans)\n",
    "    #The yield to maturity is calculated using the numpy_financial library's npf.irr() function\n",
    "    ytm = npf.irr(vals)\n",
    "\n",
    "    return ytm\n",
    "\n",
    "ytm = Find_ytm(PV, face_val, coupan_rate, maturity)\n",
    "print(\"The yield to maturity of Bond A is: {ytm:.3%}\".format(ytm=ytm))"
   ]
  },
  {
   "cell_type": "markdown",
   "metadata": {},
   "source": [
    "e.) Based on Exhibit 5, assume an equal probability of interest rate going up and down at each node. Calculate the value of Bond B and Bond C with the binomial tree model. **\\[3 marks\\]**\n",
    "\n",
    "Values acheived for realisations is presented in this table: \n",
    "\n",
    "$$\n",
    "\\begin{array}{|c|c|c|c|}\n",
    "\\hline\n",
    "\\textbf{Realisation} & \\boldsymbol{P_0} & \\boldsymbol{P_1} & \\boldsymbol{P_2} \\\\\n",
    "\\hline\n",
    "uu, u & 1022.63 & 1003.56 & 996.62 \\\\\n",
    "ud, u & 1030.32 & 1011.43 & 1004.78 \\\\\n",
    "ud, d & 1036.58 & 1017.83 & 1004.78 \\\\\n",
    "dd, d & 1042.86 & 1024.26 & 1011.39 \\\\\n",
    "\\hline\n",
    "\\end{array}\n",
    "$$"
   ]
  },
  {
   "cell_type": "code",
   "execution_count": 19,
   "metadata": {},
   "outputs": [
    {
     "name": "stdout",
     "output_type": "stream",
     "text": [
      "Realisation 1(uu, u): P0 = 1022.6300 , P1 = 1003.5595 , P2 = 996.6174\n",
      "Realisation 2(ud, u): P0 = 1030.3249 , P1 = 1011.4345 , P2 = 1004.7753\n",
      "Realisation 3(ud, d): P0 = 1036.5778 , P1 = 1017.8337 , P2 = 1004.7753\n",
      "Realisation 4(dd, d): P0 = 1042.8565 , P1 = 1024.2594 , P2 = 1011.3900\n",
      "\n",
      "Since P1 > 1000 for all 4 realisations hence, bond B will be called back at par on start of year 1\n",
      "The Value of bond B is 1041.771\n",
      "\n",
      "P2 of realisation 1 has a lower value than 1000 so Bond C will be put at par on start of year 2 and to find the value of Bond C the cash flow of realisation 1 needs to be adjusted\n",
      "The value of Bond C is, 1033.895\n"
     ]
    }
   ],
   "source": [
    "# Answer here\n",
    "# Answer here\n",
    "\n",
    "#Finding the total cashflow for both bonds B and C\n",
    "#The parameters for the calculation are defined\n",
    "ruu, rud, rdd, ru, rd, r0 = 0.04654, 0.038043, 0.031254, 0.03593, 0.029417, 0.0234\n",
    "face_val_B_C = 1000\n",
    "coupan_rate_B_C = 0.043\n",
    "\n",
    "#The total cashflow in Y3:\n",
    "\n",
    "total_cashflow_Y3 = face_val_B_C + coupan_rate_B_C * face_val_B_C\n",
    "coupan_val = coupan_rate_B_C * face_val_B_C\n",
    "\n",
    "def Compute_realisation(face_value, coupan_rate, r2, r1, r0):\n",
    "      #Calculating the total cashflow: Face value + coupan value\n",
    "      total_cashflow = face_value + coupan_rate * face_value\n",
    "      \n",
    "      #Calculating the coupan value\n",
    "      coupan_val = coupan_rate * face_value\n",
    "\n",
    "      P0 = total_cashflow/(1+r2)/(1+r1)/(1+r0) + coupan_val/(1+r1)/(1+r0) + coupan_val/(1+r0)\n",
    "      P1 = total_cashflow/(1+r2)/(1+r1) + coupan_val/(1+r1)\n",
    "      P2 = total_cashflow/(1+r2)\n",
    "\n",
    "      return P0, P1, P2\n",
    "\n",
    "#Computing realisation 1: \n",
    "P1_0, P1_1, P1_2 = Compute_realisation(face_val_B_C, coupan_rate_B_C, ruu, ru, r0)\n",
    "\n",
    "print(\"Realisation 1(uu, u): P0 =\", '{0:.4f}'.format(P1_0),\n",
    "      \", P1 =\", '{0:.4f}'.format(P1_1), \n",
    "      \", P2 =\", '{0:.4f}'.format(P1_2))\n",
    "\n",
    "\n",
    "#Computing realisation 2:\n",
    "P2_0, P2_1, P2_2 = Compute_realisation(face_val_B_C, coupan_rate_B_C, rud, ru, r0)\n",
    "\n",
    "print(\"Realisation 2(ud, u): P0 =\", '{0:.4f}'.format(P2_0),\n",
    "      \", P1 =\", '{0:.4f}'.format(P2_1), \n",
    "      \", P2 =\", '{0:.4f}'.format(P2_2))\n",
    "\n",
    "#Computing realisation 3:\n",
    "P3_0, P3_1, P3_2 = Compute_realisation(face_val_B_C, coupan_rate_B_C, rud, rd, r0)\n",
    "\n",
    "print(\"Realisation 3(ud, d): P0 =\", '{0:.4f}'.format(P3_0),\n",
    "      \", P1 =\", '{0:.4f}'.format(P3_1), \n",
    "      \", P2 =\", '{0:.4f}'.format(P3_2))\n",
    "\n",
    "#Computing realisation 4:\n",
    "P4_0, P4_1, P4_2 = Compute_realisation(face_val_B_C, coupan_rate_B_C, rdd, rd, r0)\n",
    "\n",
    "print(\"Realisation 4(dd, d): P0 =\", '{0:.4f}'.format(P4_0),\n",
    "      \", P1 =\", '{0:.4f}'.format(P4_1), \n",
    "      \", P2 =\", '{0:.4f}'.format(P4_2))\n",
    "\n",
    "\n",
    "print(\"\\nSince P1 > 1000 for all 4 realisations hence, bond B will be called back at par on start of year 1\")\n",
    "#Finding the value of Bond B\n",
    "V_b = face_val_B_C + coupan_val/(1+rd)\n",
    "\n",
    "print(\"The Value of bond B is {v_b:.3f}\".format(v_b=V_b))\n",
    "\n",
    "print(\"\\nP2 of realisation 1 has a lower value than 1000 so Bond C will be put at par on start of year 2 and to find the value of Bond C the cash flow of realisation 1 needs to be adjusted\")\n",
    "\n",
    "#Adjusting the cashflow for realisation 1 to find the value of Bond C\n",
    "P1_0_adj = total_cashflow_Y3/(1+ru)/(1+r0) + coupan_val/(1+r0)\n",
    "\n",
    "#Finding the value of Bond C \n",
    "V_c = 0.25*P1_0_adj + 0.25 * P2_0 + 0.25 * P3_0 + 0.25 * P4_0\n",
    "\n",
    "print(\"The value of Bond C is, {v_c:.3f}\".format(v_c=V_c))"
   ]
  },
  {
   "cell_type": "markdown",
   "metadata": {},
   "source": [
    "f.) All else being equal, explain the effect of a fall in interest rates on Bond B and Bond C. **\\[2 marks\\]**"
   ]
  },
  {
   "cell_type": "markdown",
   "metadata": {},
   "source": [
    "Bond prices have an inverse relation; hence, with a fall in interest rates, bond prices usually increase. Since Bond B has a high price in all realisations, it will be called back at the start of year 1 regardless of any change in the interest rates. However, a lower interest rate will increase the market value of Bond B until it is called. \n",
    "In Bond C, the putable bond, a fall in the interest rates leads to a significant price growth benefitting the bondholder. Since the bond price exceeds the put price in realisation 1 and other scenarios, the bondholder could achieve a higher return by holding the bond rather than exercising the put option.# Answer here"
   ]
  },
  {
   "cell_type": "markdown",
   "metadata": {},
   "source": [
    "g.) All else being equal, which bond is most likely to increase in value if interest rate volatility is 15% rather than 10%? Briefly explain your answer. (Hint: consider the value of options) **\\[1 mark\\]**"
   ]
  },
  {
   "cell_type": "markdown",
   "metadata": {},
   "source": [
    "Bond C, the putable bond, is more likely to increase in value if interest rate volatility rises from 10% to 20%. This is because the value of embedded options, whether call or put, increases with higher volatility. Increased volatility raises the likelihood that the bond's market price will fall below the put price, making the put option more valuable for the bondholder.\n",
    "\n",
    "While Bond B, the callable bond, also gains value with higher volatility, its price is capped due to the callable feature, which limits its upside potential. Additionally, higher volatility increases the chances of the issuer calling Bond B to avoid further losses, which may reduce the bond's value from the bondholder's perspective. Therefore, Bond C is more sensitive to increased volatility and likelier to experience a more significant value increase than Bond B. # Answer here"
   ]
  },
  {
   "cell_type": "markdown",
   "metadata": {},
   "source": [
    "## Question 3: Forward and Futures Contracts **\\[12 marks\\]**\n",
    "In this question you will be working with futures and forward contracts\n",
    "\n",
    "Consider a stock that is trading at $100 today. The stock does not generate income/pay dividends. The stock is traded in a well-functioning market with no transaction costs and no restrictions on short sales. Both borrowing and lending can be done in unlimited amounts at the 2% risk-free rate."
   ]
  },
  {
   "cell_type": "markdown",
   "metadata": {},
   "source": [
    "a.) What is the difference between forward contracts and futures contracts (Answers should be no longer than 200 words) **\\[4 marks\\]**"
   ]
  },
  {
   "cell_type": "markdown",
   "metadata": {},
   "source": [
    "**Answer**:\n",
    "\n",
    "Forward contracts are agreements between two parties to buy or sell an asset at a future date for a price agreed upon today. This is an over-the-counter agreement so they are privately negotiated between two parties and the contract terms are customised to fit the needs. Since each contract is tailor-made, it's not standardised, giving flexibility but less liquidity. This comes with higher credit risk because there is no intermediary to guarantee the transaction. The forward contracts are mainly used for hedging.\n",
    "\n",
    "Future contracts are standardised agreements traded on an exchange. It is marked-to-market daily, meaning gains and losses are settled daily so the credit risk is reduced. The terms of this contract are set by an exchange and the contract is fully standardised, ensuring high liquidity and ease of trading. The credit risk is reduced as mentioned previously, but also because there is a margin system in place to manage risk. Future contracts can be used for both hedging and speculative purposes.\n"
   ]
  },
  {
   "cell_type": "markdown",
   "metadata": {},
   "source": [
    "b.) Consider a futures contract on the stock with a maturity of one year. Suppose that the futures price is currently at $97. Are the futures fairly priced? Describe an arbitrage strategy that would allow you to make a riskless profit. **\\[2 marks\\]**"
   ]
  },
  {
   "cell_type": "markdown",
   "metadata": {},
   "source": [
    "**Answer here:**\n",
    "\n",
    "**No this is not fairly priced**, as the future price can be expected as approximately $102. Here is the calculation.\n",
    "\n",
    "To calculate the future value, the following formula can be used:\n",
    "\n",
    "$$\n",
    "F = S \\cdot e^{rT}\n",
    "$$\n",
    "\n",
    "where \\( S \\) is the current price of the asset, \\( r \\) is the risk-free interest rate and \\( T \\) is the time to maturity in years.\n",
    "\n",
    "However, I have simplified this into the following equation by using Taylor series, as in this question it is assumed that the maturity of the stock is only one year and the formula above might compute a large error in a short time to maturity. The following formula can be used instead:\n",
    "\n",
    "$$\n",
    "F = S \\cdot (1 + r)^T\n",
    "$$\n",
    "\n",
    "Applying this question into this formula,\n",
    "\n",
    "$$\n",
    "F = 100 \\cdot (1 + 0.02)^1 = 102\n",
    "$$\n",
    "\n",
    "The expected future price is **$102**.\n",
    "\n",
    "\n",
    "**To make a riskless profit:**\n",
    "\n",
    "1. Buy the futures contract at $97, meaning we agree to buy the stock after a year for $97. \n",
    "\n",
    "2. Short-sell the stock today at the spot price, which in this case $100.\n",
    "\n",
    "3. Invest the proceeds ($100) from the short sale at the risk-free rate. \n",
    "\n",
    "This will gain the total riskless profit of approximately $5 per share. This is possible by using the $102 which gained from investing $100 at the 2% of risk-free rate and spending that money to buy the stock at $97. Therefore:\n",
    "$$\n",
    "102 - 97 = 5\n",
    "$$\n",
    "\n",
    "The riskless profit will be **$5 per share**. \n"
   ]
  },
  {
   "cell_type": "markdown",
   "metadata": {},
   "source": [
    "c.) Same as question b) but suppose that the futures price is currently at $103. Describe your arbitrage strategy. **\\[2 marks\\]**"
   ]
  },
  {
   "cell_type": "code",
   "execution_count": 20,
   "metadata": {},
   "outputs": [],
   "source": [
    "# Answer here"
   ]
  },
  {
   "cell_type": "markdown",
   "metadata": {},
   "source": [
    "**Answer here**:\n",
    "\n",
    "**No this is not fairly priced also** since the expected future price will be approximately $102, as calculated above. \n",
    "\n",
    "To gain a riskless profit, this can be an arbitrage strategy:\n",
    "\n",
    "1. Sell the futures contract at $103, meaning we agree to sell the stock in a year at $103. \n",
    "2. Buy the stock today at the spot price, which in this case $100.\n",
    "3. Borrow money at the risk-free rate 2% to finance the stock purchase.\n",
    "\n",
    "In this way, the total gain or loss after a year can be calculated as follows:\n",
    "\n",
    "- Borrow $100 today at 2% for one year. The repayment amount after one year is:\n",
    "  $$\n",
    "  100 \\cdot (1 + 0.02)^1 = 102\n",
    "  $$\n",
    "- At maturity:\n",
    "  - Deliver the stock as per the futures contract to receive $103.\n",
    "  - Use $102 to repay the loan.\n",
    "\n",
    "The remaining profit is:\n",
    "\n",
    "$$\n",
    "103 - 102 = 1\n",
    "$$\n",
    "\n",
    "Therefore, the riskless profit will be **$1 per share**. "
   ]
  },
  {
   "cell_type": "markdown",
   "metadata": {},
   "source": [
    "d.) Consider a stock with the market value of $76 that pays 5% dividend yield over the next year. Given the risk-free rate of return is 3%, and the initial forward price is $73, what is the present value of the forward contract with one year maturity? **\\[2 marks\\]**"
   ]
  },
  {
   "cell_type": "code",
   "execution_count": null,
   "metadata": {},
   "outputs": [
    {
     "name": "stdout",
     "output_type": "stream",
     "text": [
      "The present value of the forward contract with one year maturity is: $1.45\n"
     ]
    }
   ],
   "source": [
    "# Answer here\n",
    "\n",
    "# NEED CHANGES\n",
    "\n",
    "# Good afternoon,\n",
    "\n",
    "# It was brought to my attention that there is an error in the group coursework in question 3 d.). The question says that the \"initial forward price is $73\", whereas it should say that the \"agreed delivery price is $73\".\n",
    "\n",
    "# Please find the updated Group Coursework: Instructions and Group Coursework: Jupyter Notebook Template on the course's Moodle page under section Assessment Task and Submission - Sitting: 2024, Main.\n",
    "\n",
    "# Kind Regards, Rem Sadykhov\n",
    "\n",
    "spot_price = 76\n",
    "risk_free_rate2 = 0.03\n",
    "dividend_yield = 0.05\n",
    "time_to_maturity = 1\n",
    "initial_forward_price = 73\n",
    "\n",
    "def calculate_forward_price(spot_price, risk_free_rate, dividend_yield, time_to_maturity):\n",
    "    forward_price = spot_price * np.exp((risk_free_rate-dividend_yield)*time_to_maturity)\n",
    "\n",
    "    return forward_price\n",
    "\n",
    "forward_price = calculate_forward_price(spot_price, risk_free_rate2, dividend_yield, time_to_maturity)\n",
    "\n",
    "def calculate_pv_with_divident(forward_price, initial_forward_price, risk_free_rate, time_to_maturity):\n",
    "    pv = (forward_price - initial_forward_price) * np.exp(-risk_free_rate*time_to_maturity)\n",
    "    return pv\n",
    "\n",
    "\n",
    "print(\"The present value of the forward contract with one year maturity is: ${pv:.2f}\".format(pv=calculate_pv_with_divident(forward_price, initial_forward_price, risk_free_rate2, time_to_maturity)))"
   ]
  },
  {
   "cell_type": "markdown",
   "metadata": {},
   "source": [
    "e.) Consider the same conditions as in part d.), but with the dividend of $3, what is the present value of the forward contract? **\\[2 marks\\]**"
   ]
  },
  {
   "cell_type": "code",
   "execution_count": 22,
   "metadata": {},
   "outputs": [
    {
     "name": "stdout",
     "output_type": "stream",
     "text": [
      "The present value of the forward contract with one year maturity is: $2.16\n"
     ]
    }
   ],
   "source": [
    "# Answer here\n",
    "\n",
    "# To consider the dividend, we need to substract from the spot price\n",
    "dividend = 3\n",
    "spot_price = 76\n",
    "risk_free_rate2 = 0.03\n",
    "dividend_yield = 0  # Since this is already given as a numerical value (discrete dividend)\n",
    "time_to_maturity = 1\n",
    "initial_forward_price = 73\n",
    "\n",
    "updated_spot_price = spot_price - dividend\n",
    "# print(updated_spot_price, spot_price)\n",
    "\n",
    "forward_price2 = calculate_forward_price(updated_spot_price, risk_free_rate2, dividend_yield, time_to_maturity)\n",
    "\n",
    "# print(forward_price2)\n",
    "print(\"The present value of the forward contract with one year maturity is: ${pv:.2f}\".format(pv=calculate_pv_with_divident(forward_price2, initial_forward_price, risk_free_rate2, time_to_maturity)))\n"
   ]
  },
  {
   "cell_type": "markdown",
   "metadata": {},
   "source": [
    "# Question 4: Options **\\[16 Marks\\]**\n",
    "In this question, you will be working with options.\n",
    "\n",
    "Suppose that you hold a long position on a European call option that has an underlying asset price of $45.34, strike price of $44, risk-free rate of 1.5%, 20% annualized volatility, and a half-a-year left to maturity. The underlying asset does not have any investment yield."
   ]
  },
  {
   "cell_type": "markdown",
   "metadata": {},
   "source": [
    "a.) Value this call option. **\\[1 mark\\]**"
   ]
  },
  {
   "cell_type": "markdown",
   "metadata": {},
   "source": [
    "To estimate the price of a European call option, the Black-Scholes-Merton model provides a closed-form solution. Below are the key formulas used in the model:\n",
    "\n",
    "   $$\n",
    "   d_1 = \\frac{\\ln\\left(\\frac{S_0}{K}\\right) + \\left(r + \\frac{\\sigma^2}{2}\\right)T}{\\sigma \\sqrt{T}}\n",
    "   $$\n",
    "\n",
    "   $$\n",
    "   d_2 = d_1 - \\sigma \\sqrt{T}\n",
    "   $$\n",
    "\n",
    "   $$\n",
    "   c = S_0 N(d_1) - K e^{-rT} N(d_2)\n",
    "   $$\n"
   ]
  },
  {
   "cell_type": "code",
   "execution_count": 23,
   "metadata": {},
   "outputs": [
    {
     "name": "stdout",
     "output_type": "stream",
     "text": [
      "The price of the call option is: $3.43\n"
     ]
    }
   ],
   "source": [
    "# Answer here\n",
    "import scipy.stats as stats\n",
    "\n",
    "s_0 = 45.34 # Current stock price\n",
    "s_p = 44    # Strike priceQD\n",
    "rf = 0.015  # Risk-free rate\n",
    "v = 0.2     # Volatility\n",
    "t = 0.5     # Time to maturity\n",
    "\n",
    "def find_option_price(s_0, K, r, sigam, T):\n",
    "    d1 = (np.log(s_0/K) + (r + (sigam**2)/2) * T) / (sigam * np.sqrt(T))\n",
    "    d2 = d1 - sigam * np.sqrt(T)\n",
    "    call = s_0 * stats.norm.cdf(d1) - K * np.exp(-r * T) * stats.norm.cdf(d2)\n",
    "    return call\n",
    "\n",
    "print(\"The price of the call option is: ${call:.2f}\".format(call=find_option_price(s_0, s_p, rf, v, t)))"
   ]
  },
  {
   "cell_type": "markdown",
   "metadata": {},
   "source": [
    "b.) Based on the Black-Scholes-Merton model, describe a portfolio that replicates the call option’s payoff. **\\[1 mark\\]**"
   ]
  },
  {
   "cell_type": "markdown",
   "metadata": {},
   "source": [
    "To replicate the payoff of a call option at expiration, we construct a portfolio that mimics its behavior. This portfolio consists of three components: a long position in the underlying stock, a long put option with the same strike price $K$, and a cash position of $-K$ borrowed at the risk-free rate. By combining these components, the portfolio can perfectly replicate the call option’s payoff\n",
    "$$\n",
    "\\text{Call payoff} = \n",
    "    \\begin{cases}\n",
    "        0 & \\text{if } S_T \\le K, \\\\\n",
    "        S_T - K & \\text{if } S_T > K.\n",
    "    \\end{cases}\n",
    "$$\n",
    "\n",
    "**Stock**:\n",
    "  - When $S_T \\leq K$, the value of the stock is $S_T$.\n",
    "  - When $S_T > K$, the value of the stock remains $S_T$.\n",
    "\n",
    "**Put Option**:\n",
    "  - When $S_T \\leq K$, the put option’s value is $K - S_T$, representing the payoff from exercising the option.\n",
    "  - When $S_T > K$, the put option’s value is $0$, as the option is not exercised.\n",
    "  \n",
    "**Cash**:\n",
    "  - Regardless of whether $S_T \\leq K$ or $S_T > K$, the cash value is always $-K$, representing the repayment of the borrowed amount.\n",
    "  \n",
    "The portfolio payoff calculation is as follows:\n",
    "$$\n",
    "\\begin{aligned}\n",
    "\\text{Portfolio payoff} = \n",
    "    \\begin{cases}\n",
    "        S_T + (K - S_T) + (-K) &= 0 & \\text{if } S_T \\le K \\\\\n",
    "        S_T + 0 + (-K) &= S_T - K & \\text{if } S_T > K\n",
    "    \\end{cases}\n",
    "\\end{aligned}\n",
    "$$\n",
    "\n",
    "Thus, by combining these components, the portfolio’s payoff matches the call option’s payoff exactly, under all scenarios at expiration."
   ]
  },
  {
   "cell_type": "markdown",
   "metadata": {},
   "source": [
    "c.) Define a function to price the option with the binomial tree method. The function should take the number of steps (n) as one of the inputs. You should NOT use list comprehension in the function. **\\[3 marks\\]**"
   ]
  },
  {
   "cell_type": "markdown",
   "metadata": {},
   "source": [
    "\n",
    "1. **Upward and Downward Movement Factors ($u$ and $d$):**\n",
    "   $$\n",
    "   \\Delta t = \\frac{T}{n}, \\quad u = e^{\\sigma \\sqrt{\\Delta t}}, \\quad d = e^{-\\sigma \\sqrt{\\Delta t}} = \\frac{1}{u}\n",
    "   $$\n",
    "\n",
    "2. **Risk-neutral Probability ($p$):**\n",
    "   $$\n",
    "   p = \\frac{e^{r \\Delta t} - d}{u - d}\n",
    "   $$\n",
    "\n",
    "3. **Stock Price at Each Node ($S_p[i]$):**\n",
    "   $$\n",
    "   S_p[0] = S_0 \\cdot d^n, \\quad S_p[i] = S_p[i-1] \\cdot \\frac{u}{d}, \\quad i = 1, 2, \\dots, n\n",
    "   $$\n",
    "\n",
    "4. **Option Price Recursion ($f^{(j, i)}$):**\n",
    "   $$\n",
    "   f^{(j, i)} = e^{-r \\Delta t} \\cdot \\left(p f^{(j+1, i+1)} + (1-p) f^{(j+1, i)}\\right), \\quad j = n-1, n-2, \\dots, 0, \\, i = 0, 1, \\dots, j\n",
    "   $$\n"
   ]
  },
  {
   "cell_type": "code",
   "execution_count": 24,
   "metadata": {},
   "outputs": [],
   "source": [
    "# Answer here\n",
    "# I DONT KNOW UISNG 1d array or 2d array\n",
    "# 1D \n",
    "def binomial_tree(s_0, K, r, sigma, T, n):\n",
    "    dt = T / n \n",
    "    u = np.exp(sigma * np.sqrt(dt))\n",
    "    d = 1 / u                                                 \n",
    "    p = (np.exp(r * dt) - d) / (u - d)\n",
    "    discount = np.exp(-r * dt)\n",
    "\n",
    "    # Initialize the stock price tree\n",
    "    s_p  =  np.zeros(n+1)\n",
    "    s_p[0] = s_0 * d**n\n",
    "    for i in range(1, n+1):\n",
    "        s_p[i] = s_p[i-1] * u / d\n",
    "\n",
    "    # Initialize the option value at maturity\n",
    "    option = np.zeros(n+1)\n",
    "    for i in range(n+1):\n",
    "        option[i] = max(s_p[i] - K, 0)\n",
    "    \n",
    "    # Calculate the option price at each node\n",
    "    for j in range(n-1, -1, -1):\n",
    "        for i in range(j+1):\n",
    "            option[i] = discount * (p * option[i+1] + (1-p) * option[i])\n",
    "\n",
    "    return option[0]"
   ]
  },
  {
   "cell_type": "markdown",
   "metadata": {},
   "source": [
    "d.) By setting n = 10, 50 and 100, compare and comment on the results under the two methods. **\\[2 marks\\]**"
   ]
  },
  {
   "cell_type": "code",
   "execution_count": 25,
   "metadata": {},
   "outputs": [
    {
     "name": "stdout",
     "output_type": "stream",
     "text": [
      "The price of the call option using the binomial option pricing model (10 steps) is: $3.4759\n",
      "The price of the call option using the binomial option pricing model (50 steps)  is: $3.4369\n",
      "The price of the call option using the binomial option pricing model (100 steps) is: $3.4274\n"
     ]
    }
   ],
   "source": [
    "# Answer here\n",
    "print (\"The price of the call option using the binomial option pricing model (10 steps) is: ${option_price:.4f}\".format(option_price=binomial_tree(s_0, s_p, rf, v, t, 10)))\n",
    "print (\"The price of the call option using the binomial option pricing model (50 steps)  is: ${option_price:.4f}\".format(option_price=binomial_tree(s_0, s_p, rf, v, t, 50)))\n",
    "print (\"The price of the call option using the binomial option pricing model (100 steps) is: ${option_price:.4f}\".format(option_price=binomial_tree(s_0, s_p, rf, v, t, 100)))"
   ]
  },
  {
   "cell_type": "markdown",
   "metadata": {},
   "source": [
    "When buying two calls with the exercises price of $x_{1}$ and $x_{3}$ and selling two calls with the exercise price of $x_{2}$, where\n",
    "$$x_{2} = \\frac{x_{1}+x_{3}}{2},$$\n",
    "with the same maturity for the same stock, we call it a butterfly. Consider the following call options for the stock that trades at $57.03:\n",
    "| Option Name | Strike Price | Call Premium (Price) |\n",
    "| --- | --- | --- |\n",
    "| Call Option 1 | 50 | 10 |\n",
    "| Call Option 2 | 55 | 7 |\n",
    "| Call Option 3 | 60 | 5 |"
   ]
  },
  {
   "cell_type": "markdown",
   "metadata": {},
   "source": [
    "e.) Create a graphical representation of the butterfly strategy’s payoff. **\\[2 marks\\]**"
   ]
  },
  {
   "cell_type": "markdown",
   "metadata": {},
   "source": [
    "1. **Payoff for Long Call at $x_1$:**\n",
    "   $$\n",
    "   \\text{Payoff}_{x_1} = \\max(0, S - x_1) - p_1\n",
    "   $$\n",
    "\n",
    "2. **Payoff for Short 2 Calls at $x_2$:**\n",
    "   $$\n",
    "   \\text{Payoff}_{x_2} = -2 \\cdot \\left[\\max(0, S - x_2) - p_2\\right]\n",
    "   $$\n",
    "\n",
    "3. **Payoff for Long Call at $x_3$:**\n",
    "   $$\n",
    "   \\text{Payoff}_{x_3} = \\max(0, S - x_3) - p_3\n",
    "   $$\n",
    "\n",
    "4. **Total Payoff for Butterfly Spread:**\n",
    "   $$\n",
    "   \\text{Total Payoff} = \\text{Payoff}_{x_1} + \\text{Payoff}_{x_2} + \\text{Payoff}_{x_3}\n",
    "   $$\n"
   ]
  },
  {
   "cell_type": "code",
   "execution_count": 26,
   "metadata": {},
   "outputs": [
    {
     "data": {
      "image/png": "[encoded data removed]",
      "text/plain": [
       "<Figure size 1000x600 with 1 Axes>"
      ]
     },
     "metadata": {},
     "output_type": "display_data"
    }
   ],
   "source": [
    "x1 = 50  \n",
    "x2 = 55  \n",
    "x3 = 60  \n",
    "p1 = 10  \n",
    "p2 = 7  \n",
    "p3 = 5   \n",
    "\n",
    "stock_prices = np.arange(40, 70, 1)\n",
    "\n",
    "payoff_x1_long = [max(0, price - x1) - p1 for price in stock_prices]\n",
    "payoff_x2_short = [-2 * (max(0, price - x2) - p2) for price in stock_prices]\n",
    "payoff_x3_long = [max(0, price - x3) - p3 for price in stock_prices]\n",
    "total_payoff = [p1 + p2 + p3 for p1, p2, p3 in zip(payoff_x1_long, payoff_x2_short, payoff_x3_long)]\n",
    "\n",
    "max_payoff_index = np.argmax(total_payoff)\n",
    "max_payoff_price = stock_prices[max_payoff_index]\n",
    "max_payoff_value = total_payoff[max_payoff_index]\n",
    "\n",
    "plt.figure(figsize=(10, 6))\n",
    "plt.plot(stock_prices, payoff_x1_long, label='Long Call at x1', linestyle='--')\n",
    "plt.plot(stock_prices, payoff_x2_short, label='Short 2 Calls at x2', linestyle='--')\n",
    "plt.plot(stock_prices, payoff_x3_long, label='Long Call at x3', linestyle='--')\n",
    "plt.plot(stock_prices, total_payoff, label='Total Butterfly Payoff', color='blue', linewidth=2)\n",
    "plt.axhline(0, color='black', linestyle='--', linewidth=0.8)  # Zero line\n",
    "plt.axvline(x=max_payoff_price, color='red', linestyle='-', linewidth=1, label=f'Max Payoff at \\${max_payoff_price} (\\${max_payoff_value:.2f})')\n",
    "plt.title('Butterfly Spread Strategy Payoff')\n",
    "plt.xlabel('Stock Price at Maturity ($)')\n",
    "plt.ylabel('Payoff ($)')\n",
    "plt.legend()\n",
    "plt.grid(True)\n",
    "plt.show()\n"
   ]
  },
  {
   "cell_type": "markdown",
   "metadata": {},
   "source": [
    "f.) Why might an investor enter into such a strategy? **\\[2 marks\\]**"
   ]
  },
  {
   "cell_type": "markdown",
   "metadata": {},
   "source": [
    "Solution:\n",
    "\n",
    "The butterfly strategy is ideal for investors expecting low volatility, as it profits most when the stock price remains near the middle strike price $K_2 = 55$. The chart shows that the strategy offers limited risk, with losses capped beyond $K_1 = 50$ and $K_3 = 60$, and a defined reward peaking at $K_2$. This cost-efficient and neutral approach appeals to risk-averse investors looking to capitalize on range-bound market conditions."
   ]
  },
  {
   "cell_type": "markdown",
   "metadata": {},
   "source": [
    "g.) Use binomial model (set some arbitrary high number of iterations) to price the european butterfly option from part e.), assuming it has 1 year to maturity, the risk-free rate is 1.5% and the annualized volatility of the underlying stock is 15%. **\\[5 marks\\]**"
   ]
  },
  {
   "cell_type": "markdown",
   "metadata": {},
   "source": [
    "\n",
    "1. **Butterfly Spread Payoff at Maturity ($\\text{Payoff}[i]$):**\n",
    "   $$\n",
    "   \\text{Payoff}[i] = \\max(S_p[i] - k_1, 0) - 2 \\cdot \\max(S_p[i] - k_2, 0) + \\max(S_p[i] - k_3, 0)\n",
    "   $$\n",
    "\n",
    "2. **Backward Recursion Using Payoff ($\\text{Payoff}^{(j, i)}$):**\n",
    "   $$\n",
    "   \\text{Payoff}^{(j, i)} = e^{-r \\Delta t} \\cdot \\left(p \\cdot \\text{Payoff}^{(j+1, i+1)} + (1 - p) \\cdot \\text{Payoff}^{(j+1, i)}\\right), \\quad j = n-1, n-2, \\dots, 0, \\, i = 0, 1, \\dots, j\n",
    "   $$\n",
    "\n",
    "3. **Smooth Payoff Using Interpolation:**\n",
    "   $$\n",
    "   \\text{Payoff}_{\\text{smooth}}(S) = \\text{Spline}(\\text{Payoff}_{\\text{original}})\n",
    "   $$\n",
    "   $\\text{Spline}$ is a smooth function generated using B-spline interpolation methods `make_interp_spline`, applied to the discrete $\\text{Payoff}_{\\text{original}}$ data points.\n",
    "   \n",
    "   The resulting $\\text{Payoff}_{\\text{smooth}}(S)$ represents a continuous and smooth payoff curve as a function of stock prices $S$.\n"
   ]
  },
  {
   "cell_type": "code",
   "execution_count": 27,
   "metadata": {},
   "outputs": [
    {
     "name": "stdout",
     "output_type": "stream",
     "text": [
      "Original Points:\n",
      "n = 10, Butterfly Option Price = 1.0912\n",
      "n = 510, Butterfly Option Price = 1.1132\n",
      "n = 1010, Butterfly Option Price = 1.1155\n",
      "n = 1510, Butterfly Option Price = 1.1148\n",
      "n = 2010, Butterfly Option Price = 1.1151\n",
      "n = 2510, Butterfly Option Price = 1.1158\n",
      "n = 3010, Butterfly Option Price = 1.1148\n"
     ]
    },
    {
     "data": {
      "image/png": "[encoded data removed]",
      "text/plain": [
       "<Figure size 1000x600 with 1 Axes>"
      ]
     },
     "metadata": {},
     "output_type": "display_data"
    }
   ],
   "source": [
    "from scipy.interpolate import make_interp_spline\n",
    "\n",
    "s_0 = 57.03  \n",
    "k1 = 50  \n",
    "k2 = 55 \n",
    "k3 = 60  \n",
    "r = 0.015  \n",
    "sigma = 0.15 \n",
    "t = 1\n",
    "\n",
    "def binomial_butterfly(s_0, k1, k2, k3, r, sigma, T, n):\n",
    "    dt = T / n\n",
    "    u = np.exp(sigma * np.sqrt(dt)) \n",
    "    d = 1 / u  \n",
    "    p = (np.exp(r * dt) - d) / (u - d) \n",
    "    discount = np.exp(-r * dt)\n",
    "\n",
    "    stock_prices = np.zeros(n + 1)\n",
    "    option_values = np.zeros(n + 1)\n",
    "\n",
    "    for i in range(n + 1):\n",
    "        stock_prices[i] = s_0 * (u ** i) * (d ** (n - i))\n",
    "        sp = stock_prices[i]\n",
    "        long_call1 = max(sp - k1, 0)\n",
    "        short_call = -2 * max(sp - k2, 0)\n",
    "        long_call2 = max(sp - k3, 0)\n",
    "        option_values[i] = long_call1 + short_call + long_call2\n",
    "\n",
    "    for j in range(n - 1, -1, -1):\n",
    "        for i in range(j + 1):\n",
    "            option_values[i] = discount * (p * option_values[i + 1] + (1 - p) * option_values[i])\n",
    "\n",
    "    return option_values[0]\n",
    "\n",
    "# Generate more dense n values for smoother curve\n",
    "n = np.arange(10, 3011, 500)\n",
    "prices = [binomial_butterfly(s_0, k1, k2, k3, r, sigma, t, n) for n in n]\n",
    "print(\"Original Points:\")\n",
    "for n_val, price in zip(n, prices):\n",
    "    print(f\"n = {n_val}, Butterfly Option Price = {price:.4f}\")\n",
    "\n",
    "# Smooth the curve using interpolation\n",
    "n_smooth = np.linspace(n.min(), n.max(), 500)\n",
    "spline = make_interp_spline(n, prices)\n",
    "prices_smooth = spline(n_smooth)\n",
    "# print(\"\\nInterpolated Points:\")\n",
    "# for n_val, price in zip(n_smooth, prices_smooth):\n",
    "#     print(f\"n = {n_val:.2f}, Butterfly Option Price = {price:.4f}\")\n",
    "\n",
    "plt.figure(figsize=(10, 6))\n",
    "plt.plot(n_smooth, prices_smooth, label=\"Butterfly Option Price (Smooth)\", linewidth=2)\n",
    "plt.scatter(n, prices, color='red', label=\"Original Points\")  # Original points for reference\n",
    "plt.title(\"Convergence of Butterfly Option Price with Increasing Steps (n)\")\n",
    "plt.xlabel(\"Number of Steps (n)\")\n",
    "plt.ylabel(\"Butterfly Option Price\")\n",
    "plt.grid(True)\n",
    "plt.legend()\n",
    "plt.show()"
   ]
  },
  {
   "cell_type": "markdown",
   "metadata": {},
   "source": [
    "As $n$ (the number of steps in the binomial tree) increases, more data points are generated, providing finer granularity in stock price nodes. This leads to convergence of the payoff values toward the theoretical continuous model, resulting in a smoother curve. Consequently, the interpolated payoff curve better reflects the strategy's behavior as $n \\to \\infty$, close to 1.115.\n"
   ]
  },
  {
   "cell_type": "markdown",
   "metadata": {},
   "source": [
    "# Question 5: Case Study **\\[14 marks\\]**\n",
    "Using the data sources and tools introduced in Workshop 3, along with any relevant material from the lectures, analyze the current state and future outlook of a selected country/economy from a macroeconomic and financial perspective. As a primary suggestion, groups may consider analyzing the United States economy, as most available free data sources focus on this country. However, groups are welcome to choose any country/economy they wish to analyze. Groups MUST include figures and/or tables from various data sources, as well as research reports or studies that justify and support the analysis conducted. The report should be approximately 600/700 words, excluding the bibliography, captions for tables and figures, and any numbers included in tables."
   ]
  },
  {
   "cell_type": "markdown",
   "metadata": {},
   "source": []
  },
  {
   "cell_type": "markdown",
   "metadata": {},
   "source": [
    "# Question 6: Case Study **\\[17 marks\\]**\n",
    "Using the data sources and tools introduced in Workshop 3, along with any relevant material from the lectures, analyze the current state and future outlook of a selected publicly traded company (stock) included in a major stock market index, such as the S&P 500 or Russell 2000, among others. The company may be located in a different country than the one chosen in Question 5. As a primary suggestion, groups may consider analyzing a company from the “Magnificent 7”: Apple, Microsoft, Alphabet (Google), Amazon, Nvidia, Tesla, or Meta (Facebook). You should include, at least, a brief introduction to the company (i.e., a description of its main business) and a fundamental analysis.\n",
    "\n",
    "Groups MUST include figures and/or tables from a variety of data sources, as well as research reports or studies that justify and support the analysis conducted. The report should be approximately 600/700 words, excluding the bibliography, captions for tables and figures, and any numbers included in tables.\n",
    "\n",
    "You are not limited to analyzing an “excellent” publicly company/stock; you may also consider a poorly performing company whose stock price may decline, making a short position potentially profitable.\n",
    "\n",
    "Each group, working as financial analysts, must provide a final conclusion based on their analysis by assigning a rating to the company. The rating scale is as follows:\n",
    "- (5) Strong Sell\n",
    "- (4) Sell\n",
    "- (3) Neutral\n",
    "- (2) Buy\n",
    "- (1) Strong Buy\n",
    "\n",
    "Note that calculating a (target) price for the company is not required; simply provide a recommendation based on thorough research and analysis."
   ]
  },
  {
   "cell_type": "code",
   "execution_count": 28,
   "metadata": {},
   "outputs": [
    {
     "name": "stderr",
     "output_type": "stream",
     "text": [
      "[*********************100%***********************]  1 of 1 completed\n"
     ]
    },
    {
     "name": "stdout",
     "output_type": "stream",
     "text": [
      "<class 'pandas.core.series.Series'>\n"
     ]
    },
    {
     "ename": "KeyError",
     "evalue": "'Adj Close'",
     "output_type": "error",
     "traceback": [
      "\u001b[1;31m---------------------------------------------------------------------------\u001b[0m",
      "\u001b[1;31mDateParseError\u001b[0m                            Traceback (most recent call last)",
      "File \u001b[1;32mc:\\Users\\29148\\anaconda3\\Lib\\site-packages\\pandas\\core\\indexes\\datetimes.py:603\u001b[0m, in \u001b[0;36mDatetimeIndex.get_loc\u001b[1;34m(self, key)\u001b[0m\n\u001b[0;32m    602\u001b[0m \u001b[38;5;28;01mtry\u001b[39;00m:\n\u001b[1;32m--> 603\u001b[0m     parsed, reso \u001b[38;5;241m=\u001b[39m \u001b[38;5;28mself\u001b[39m\u001b[38;5;241m.\u001b[39m_parse_with_reso(key)\n\u001b[0;32m    604\u001b[0m \u001b[38;5;28;01mexcept\u001b[39;00m (\u001b[38;5;167;01mValueError\u001b[39;00m, pytz\u001b[38;5;241m.\u001b[39mNonExistentTimeError) \u001b[38;5;28;01mas\u001b[39;00m err:\n",
      "File \u001b[1;32mc:\\Users\\29148\\anaconda3\\Lib\\site-packages\\pandas\\core\\indexes\\datetimes.py:559\u001b[0m, in \u001b[0;36mDatetimeIndex._parse_with_reso\u001b[1;34m(self, label)\u001b[0m\n\u001b[0;32m    558\u001b[0m \u001b[38;5;28;01mdef\u001b[39;00m \u001b[38;5;21m_parse_with_reso\u001b[39m(\u001b[38;5;28mself\u001b[39m, label: \u001b[38;5;28mstr\u001b[39m):\n\u001b[1;32m--> 559\u001b[0m     parsed, reso \u001b[38;5;241m=\u001b[39m \u001b[38;5;28msuper\u001b[39m()\u001b[38;5;241m.\u001b[39m_parse_with_reso(label)\n\u001b[0;32m    561\u001b[0m     parsed \u001b[38;5;241m=\u001b[39m Timestamp(parsed)\n",
      "File \u001b[1;32mc:\\Users\\29148\\anaconda3\\Lib\\site-packages\\pandas\\core\\indexes\\datetimelike.py:293\u001b[0m, in \u001b[0;36mDatetimeIndexOpsMixin._parse_with_reso\u001b[1;34m(self, label)\u001b[0m\n\u001b[0;32m    291\u001b[0m     label \u001b[38;5;241m=\u001b[39m \u001b[38;5;28mstr\u001b[39m(label)\n\u001b[1;32m--> 293\u001b[0m parsed, reso_str \u001b[38;5;241m=\u001b[39m parsing\u001b[38;5;241m.\u001b[39mparse_datetime_string_with_reso(label, freqstr)\n\u001b[0;32m    294\u001b[0m reso \u001b[38;5;241m=\u001b[39m Resolution\u001b[38;5;241m.\u001b[39mfrom_attrname(reso_str)\n",
      "File \u001b[1;32mparsing.pyx:442\u001b[0m, in \u001b[0;36mpandas._libs.tslibs.parsing.parse_datetime_string_with_reso\u001b[1;34m()\u001b[0m\n",
      "File \u001b[1;32mparsing.pyx:666\u001b[0m, in \u001b[0;36mpandas._libs.tslibs.parsing.dateutil_parse\u001b[1;34m()\u001b[0m\n",
      "\u001b[1;31mDateParseError\u001b[0m: Unknown datetime string format, unable to parse: Adj Close",
      "\nThe above exception was the direct cause of the following exception:\n",
      "\u001b[1;31mKeyError\u001b[0m                                  Traceback (most recent call last)",
      "Cell \u001b[1;32mIn[28], line 24\u001b[0m\n\u001b[0;32m     21\u001b[0m stock_prices\n\u001b[0;32m     23\u001b[0m \u001b[38;5;66;03m# Calculate the daily returns of the adjusted close price\u001b[39;00m\n\u001b[1;32m---> 24\u001b[0m stock_prices[\u001b[38;5;124m'\u001b[39m\u001b[38;5;124mReturns\u001b[39m\u001b[38;5;124m'\u001b[39m] \u001b[38;5;241m=\u001b[39m stock_prices[\u001b[38;5;124m'\u001b[39m\u001b[38;5;124mAdj Close\u001b[39m\u001b[38;5;124m'\u001b[39m]\u001b[38;5;241m.\u001b[39mpct_change()\n\u001b[0;32m     26\u001b[0m \u001b[38;5;66;03m# Check the first five rows of stock prices\u001b[39;00m\n\u001b[0;32m     27\u001b[0m \u001b[38;5;28mprint\u001b[39m(stock_prices\u001b[38;5;241m.\u001b[39mhead(\u001b[38;5;241m3\u001b[39m))\n",
      "File \u001b[1;32mc:\\Users\\29148\\anaconda3\\Lib\\site-packages\\pandas\\core\\series.py:1121\u001b[0m, in \u001b[0;36mSeries.__getitem__\u001b[1;34m(self, key)\u001b[0m\n\u001b[0;32m   1118\u001b[0m     \u001b[38;5;28;01mreturn\u001b[39;00m \u001b[38;5;28mself\u001b[39m\u001b[38;5;241m.\u001b[39m_values[key]\n\u001b[0;32m   1120\u001b[0m \u001b[38;5;28;01melif\u001b[39;00m key_is_scalar:\n\u001b[1;32m-> 1121\u001b[0m     \u001b[38;5;28;01mreturn\u001b[39;00m \u001b[38;5;28mself\u001b[39m\u001b[38;5;241m.\u001b[39m_get_value(key)\n\u001b[0;32m   1123\u001b[0m \u001b[38;5;66;03m# Convert generator to list before going through hashable part\u001b[39;00m\n\u001b[0;32m   1124\u001b[0m \u001b[38;5;66;03m# (We will iterate through the generator there to check for slices)\u001b[39;00m\n\u001b[0;32m   1125\u001b[0m \u001b[38;5;28;01mif\u001b[39;00m is_iterator(key):\n",
      "File \u001b[1;32mc:\\Users\\29148\\anaconda3\\Lib\\site-packages\\pandas\\core\\series.py:1237\u001b[0m, in \u001b[0;36mSeries._get_value\u001b[1;34m(self, label, takeable)\u001b[0m\n\u001b[0;32m   1234\u001b[0m     \u001b[38;5;28;01mreturn\u001b[39;00m \u001b[38;5;28mself\u001b[39m\u001b[38;5;241m.\u001b[39m_values[label]\n\u001b[0;32m   1236\u001b[0m \u001b[38;5;66;03m# Similar to Index.get_value, but we do not fall back to positional\u001b[39;00m\n\u001b[1;32m-> 1237\u001b[0m loc \u001b[38;5;241m=\u001b[39m \u001b[38;5;28mself\u001b[39m\u001b[38;5;241m.\u001b[39mindex\u001b[38;5;241m.\u001b[39mget_loc(label)\n\u001b[0;32m   1239\u001b[0m \u001b[38;5;28;01mif\u001b[39;00m is_integer(loc):\n\u001b[0;32m   1240\u001b[0m     \u001b[38;5;28;01mreturn\u001b[39;00m \u001b[38;5;28mself\u001b[39m\u001b[38;5;241m.\u001b[39m_values[loc]\n",
      "File \u001b[1;32mc:\\Users\\29148\\anaconda3\\Lib\\site-packages\\pandas\\core\\indexes\\datetimes.py:605\u001b[0m, in \u001b[0;36mDatetimeIndex.get_loc\u001b[1;34m(self, key)\u001b[0m\n\u001b[0;32m    603\u001b[0m     parsed, reso \u001b[38;5;241m=\u001b[39m \u001b[38;5;28mself\u001b[39m\u001b[38;5;241m.\u001b[39m_parse_with_reso(key)\n\u001b[0;32m    604\u001b[0m \u001b[38;5;28;01mexcept\u001b[39;00m (\u001b[38;5;167;01mValueError\u001b[39;00m, pytz\u001b[38;5;241m.\u001b[39mNonExistentTimeError) \u001b[38;5;28;01mas\u001b[39;00m err:\n\u001b[1;32m--> 605\u001b[0m     \u001b[38;5;28;01mraise\u001b[39;00m \u001b[38;5;167;01mKeyError\u001b[39;00m(key) \u001b[38;5;28;01mfrom\u001b[39;00m \u001b[38;5;21;01merr\u001b[39;00m\n\u001b[0;32m    606\u001b[0m \u001b[38;5;28mself\u001b[39m\u001b[38;5;241m.\u001b[39m_disallow_mismatched_indexing(parsed)\n\u001b[0;32m    608\u001b[0m \u001b[38;5;28;01mif\u001b[39;00m \u001b[38;5;28mself\u001b[39m\u001b[38;5;241m.\u001b[39m_can_partial_date_slice(reso):\n",
      "\u001b[1;31mKeyError\u001b[0m: 'Adj Close'"
     ]
    }
   ],
   "source": [
    "# Ticker name\n",
    "ticker = 'NVDA'\n",
    "\n",
    "# Read data\n",
    "stock_data = yf.download(ticker, start=\"2023-12-01\", end=\"2024-11-27\")\n",
    "\n",
    "# Ensure the data are sorted by Date\n",
    "stock_data = stock_data.sort_values(by='Date')\n",
    "\n",
    "# Show the first five rows of stock_data\n",
    "stock_data.head()\n",
    "\n",
    "# Get the adjusted close prices\n",
    "stock_prices = stock_data['Adj Close']\n",
    "\n",
    "# Change the data type to Dataframe\n",
    "# stock_prices: pd.DataFrame = stock_prices.to_frame()\n",
    "print(type(stock_prices))\n",
    "\n",
    "# Display the result\n",
    "stock_prices\n",
    "\n",
    "# Calculate the daily returns of the adjusted close price\n",
    "stock_prices['Returns'] = stock_prices['Adj Close'].pct_change()\n",
    "\n",
    "# Check the first five rows of stock prices\n",
    "print(stock_prices.head(3))\n",
    "\n",
    "# Quick check\n",
    "print(\"Quick check, the first entry in 'Returns' is: \"+str((55.089348-55.042877)/55.042877))\n",
    "\n",
    "# Convert the decimal returns into percentage returns\n",
    "percent_return = stock_prices['Returns']*100\n",
    "\n",
    "# Drop the missing values\n",
    "returns_plot = percent_return.dropna()\n",
    "\n",
    "#Plot the returns histogram\n",
    "plt.title('Return Distribution of {}'.format(ticker))\n",
    "plt.hist(returns_plot, bins=75,density=False)\n",
    "plt.show()\n",
    "\n",
    "# Find N\n",
    "N = stock_prices['Returns'].dropna().count()\n",
    "\n",
    "# The (1 + Return) component\n",
    "return_comp = (1 + stock_prices['Returns'].dropna()).prod()\n",
    "\n",
    "# Annualized return\n",
    "annualized_return = return_comp**(252/N) - 1\n",
    "print(\"The annualized return is: \"+str(annualized_return))\n",
    "\n",
    "\n",
    "# Annualize the standard deviation\n",
    "sigma_annualized = sigma_daily * np.sqrt(252)\n",
    "print(\"The standard deviation of the daily return is: \"+str(sigma_annualized))\n",
    "\n",
    "\n",
    "# Calculate the annualized variance\n",
    "variance_annualized = sigma_annualized**2\n",
    "print(\"The daily variance is: \"+str(variance_annualized))\n",
    "\n",
    "# Drop the missing values\n",
    "clean_returns = stock_prices['Returns'].dropna()\n",
    "\n",
    "# Calculate the third moment (skewness) of the returns distribution\n",
    "returns_skewness = stats.skew(clean_returns)\n",
    "print(\"The skewness of the returns distribution is: \"+str(returns_skewness))\n",
    "\n",
    "# Run the Shapiro-Wilk test on the stock returns\n",
    "shapiro_results = stats.shapiro(clean_returns)\n",
    "print(\"Shapiro results:\", shapiro_results)\n",
    "\n",
    "# Extract the p-value from the shapiro_results\n",
    "p_value = shapiro_results[1]\n",
    "print(\"P-value: \", p_value)\n"
   ]
  }
 ],
 "metadata": {
  "kernelspec": {
   "display_name": "base",
   "language": "python",
   "name": "python3"
  },
  "language_info": {
   "codemirror_mode": {
    "name": "ipython",
    "version": 3
   },
   "file_extension": ".py",
   "mimetype": "text/x-python",
   "name": "python",
   "nbconvert_exporter": "python",
   "pygments_lexer": "ipython3",
   "version": "3.11.3"
  }
 },
 "nbformat": 4,
 "nbformat_minor": 2
}
