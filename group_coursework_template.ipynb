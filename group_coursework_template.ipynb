{
 "cells": [
  {
   "cell_type": "markdown",
   "metadata": {},
   "source": [
    "# COMP0164: Digital Finance\n",
    "## Group Coursework\n",
    "\n",
    "If you have set up an **`Anaconda`** environment, don't forget to activate it using:\n",
    "\n",
    "> conda activate digital_finance_env\n",
    "\n",
    "Below are the imports that you will need for the coursework:"
   ]
  },
  {
   "cell_type": "code",
   "execution_count": 10,
   "metadata": {},
   "outputs": [],
   "source": [
    "import datetime\n",
    "import numpy as np\n",
    "import pandas as pd\n",
    "import scipy as sp\n",
    "import yfinance as yf\n",
    "import numpy_financial as npf\n",
    "import matplotlib.pyplot as plt\n",
    "%matplotlib inline"
   ]
  },
  {
   "cell_type": "markdown",
   "metadata": {},
   "source": [
    "## Question 1: Corporate Finance **\\[15 marks\\]**\n",
    "In this question, you are asked to evaluate business and investment ideas.\n",
    "\n",
    "You are tasked with evaluating an investment project proposed by a company called Boogle. During the latest earnings report, Boogle's CFO announced an investment of \\$150 million for a new business expansion project. The project is planned to be financed with an \\$100 million public offering of a 10-year debt and the remainder with an equity offering. You have collected the information necessary to evaluate this project in Exhibits 1 and 2.\n",
    "\n",
    "### Exhibit 1: Relevant Information for Analysis\n",
    "| | |\n",
    "| --- | --- |\n",
    "| Equity risk premium | 4.53% |\n",
    "| Risk-free rate of interest | 3.9% |\n",
    "| Market value of Boogle's debt | \\$1.0 billion |\n",
    "| Market value of Boogle's equity | \\$2.6 billion |\n",
    "| Boogle's equity beta | 1.4 |\n",
    "| Boogle's before-tax cost of debt | 9.2% |\n",
    "| Corporate tax rate | 37.5% |\n",
    "\n",
    "### Exhibit 2: Estimated Project Financials\n",
    "|     | Year 1 | Year 2 | Year 3 |\n",
    "| --- | --- | --- | --- |\n",
    "| Revenue | 98.7 | 110.3 | 112.6 |\n",
    "| Operating Costs | 32  | 36  | 38  |\n",
    "| Depreciation | 16  | 16  | 16  |"
   ]
  },
  {
   "cell_type": "markdown",
   "metadata": {},
   "source": [
    "a.) Calculate the after-tax weighted average cost of capital of Boogle prior to its new project investment. **\\[3 marks\\]**"
   ]
  },
  {
   "cell_type": "markdown",
   "metadata": {},
   "source": [
    "Expected return on equity portion $r_E$ can be calculated by:\n",
    "\n",
    "$$\n",
    "r_E = r_f + \\beta_E (E[r_m] - r_f)\n",
    "$$\n",
    "\n",
    "where:\n",
    "\n",
    "- $r_f$ is the risk-free rate of interest\n",
    "- $\\beta_E$ is the equity beta\n",
    "- $E[r_m] - r_f$ can be calculated as the equity risk premium\n",
    "\n",
    "The after-tax weighted average cost of capital (WACC) can be calculated as:\n",
    "\n",
    "$$\n",
    "WACC = r_D (1 - T_c) \\frac{D}{D + E} + r_E \\frac{E}{D + E}\n",
    "$$\n",
    "\n",
    "where:\n",
    "\n",
    "- $r_D$ is the before-tax cost of debt\n",
    "- $T_c$ is the corporate tax rate\n",
    "- $D$ is the market value of Boogle's debt\n",
    "- $E$ is the market value of Boogle's equity\n",
    "- $r_E$ is the expected return on equity"
   ]
  },
  {
   "cell_type": "code",
   "execution_count": 11,
   "metadata": {},
   "outputs": [],
   "source": [
    "equity_risk_premium = 4.53 / 100    # Equity risk premium\n",
    "risk_free_rate = 3.9 / 100          # Risk-free rate of interest\n",
    "market_value_debt = 10**9           # Market value of Boogle's debt\n",
    "market_value_equity = 2.6 * 10**9   # Market value of Boogle's equity\n",
    "beta_equity = 1.4                   # Boogle's equity beta\n",
    "expected_return_debt = 9.2 / 100    # Before-tax cost of debt\n",
    "corporate_tax_rate = 0.375          # Corporate tax rate"
   ]
  },
  {
   "cell_type": "code",
   "execution_count": 12,
   "metadata": {},
   "outputs": [
    {
     "name": "stdout",
     "output_type": "stream",
     "text": [
      "The after-tax weighted average cost of capital of Boogle is: 8.99%\n"
     ]
    }
   ],
   "source": [
    "def calculate_expected_return_equity(risk_free_rate, equity_beta, equity_risk_premium):\n",
    "    return risk_free_rate + equity_beta * equity_risk_premium\n",
    "\n",
    "def after_tax_WACC(r_d, r_e, t_c, d, e):\n",
    "    return r_d * (1 - t_c) * d / (d + e) + r_e * e / (d + e)\n",
    "\n",
    "expected_return_equity = calculate_expected_return_equity(risk_free_rate, beta_equity, equity_risk_premium)\n",
    "wacc = after_tax_WACC(expected_return_debt, expected_return_equity, corporate_tax_rate, market_value_debt, market_value_equity)\n",
    "print(f\"The after-tax weighted average cost of capital of Boogle is: {wacc:.2%}\")"
   ]
  },
  {
   "cell_type": "markdown",
   "metadata": {},
   "source": [
    "b.) Find Boogle's after-tax asset beta prior to the new project. **\\[2 marks\\]**"
   ]
  },
  {
   "cell_type": "markdown",
   "metadata": {},
   "source": [
    "The following formula has been used for this question:\n",
    "\n",
    "$$\n",
    "\\beta_{asset} = \\beta_{e} \\cdot \\frac{1}{\\left[1 + (1 - t) \\cdot \\frac{D}{E}\\right]}\n",
    "$$\n",
    "\n",
    "Where: \n",
    "\n",
    "- $\\beta_{e}$ is the equity beta\n",
    "- $\\beta_{asset}$ is the asset beta\n",
    "- $D$ is the debt\n",
    "- $E$ is the equity\n",
    "- $t$ is the tax rate \n",
    "\n",
    "Substituting this:\n",
    "\n",
    "$$\n",
    "\\beta_{asset} = 1.4 \\cdot \\frac{1}{\\left[1 + (1 - 0.375) \\cdot \\frac{1.0 \\cdot 10^9}{2.6 \\cdot 10^9}\\right]}\n",
    "$$\n",
    "\n",
    "$$\n",
    "\\beta_{asset} = 1.1287...\n",
    "$$\n"
   ]
  },
  {
   "cell_type": "code",
   "execution_count": 13,
   "metadata": {},
   "outputs": [
    {
     "name": "stdout",
     "output_type": "stream",
     "text": [
      "1.1286821705426355\n",
      "The after-tax asset beta prior to the new project is: 1.1287\n"
     ]
    }
   ],
   "source": [
    "beta_e = 1.4\n",
    "debt = 1.0*10**9\n",
    "equity = 2.6*10**9\n",
    "tax_rate = 0.375\n",
    "\n",
    "def find_beta_a(beta_e, debt, equity, tax_rate):\n",
    "    return beta_e * (1/(1 + debt*(1-tax_rate)/equity))\n",
    "\n",
    "beta_a = find_beta_a(beta_e, debt, equity, tax_rate)\n",
    "\n",
    "print(beta_a)\n",
    "print(f\"The after-tax asset beta prior to the new project is: {beta_a:.5}\")"
   ]
  },
  {
   "cell_type": "markdown",
   "metadata": {},
   "source": [
    "c.) Assuming the new project has the same asset beta as the Boogle company in b.), find the the project equity beta. **\\[2 marks\\]**"
   ]
  },
  {
   "cell_type": "markdown",
   "metadata": {},
   "source": [
    "The project equity beta $ \\beta_{pe} $ can be calculated from:\n",
    "\n",
    "$$\n",
    "\\beta_{pe} = \\beta_{asset} \\cdot \\left[1 + (1 - t) \\cdot \\frac{D_p}{E_p}\\right]\n",
    "$$\n",
    "\n",
    "where:\n",
    "\n",
    "- $D_p$ is the debt of the project\n",
    "- $E_p$ is the equity of the project\n",
    "- $t$ is the tax rate\n",
    "- $\\beta_{asset}$ is the asset beta\n",
    "\n",
    "\n",
    "Therefore, we have:\n",
    "\n",
    "$$\n",
    "\\beta_{pe} = 1.12868 \\cdot \\left[1 + (1 - 37.5\\%) \\cdot \\frac{100}{50}\\right] \\\\\n",
    "= 1.12868 \\cdot 2.25 \\\\\n",
    "= 2.53953\n",
    "$$"
   ]
  },
  {
   "cell_type": "code",
   "execution_count": 14,
   "metadata": {},
   "outputs": [
    {
     "name": "stdout",
     "output_type": "stream",
     "text": [
      "Project Equity Beta: 2.53953\n"
     ]
    }
   ],
   "source": [
    "def find_beta_pe(beta_a, t, d_p, e_p):\n",
    "    # Calculate the equity beta (Beta_E)\n",
    "    return beta_a * (1 + (1 - t) * d_p / e_p)  \n",
    "# Total investment\n",
    "total = 150 * 10**6 \n",
    "# Debt portion\n",
    "d_p = 100 * 10**6    \n",
    "# Equity portion calculated as total investment minus debt\n",
    "e_p = total - d_p    \n",
    "# Corporate tax rate (37.5%)\n",
    "tax_rate = 0.375     \n",
    "# Calculate project equity beta\n",
    "project_beta_pe = find_beta_pe(beta_a, tax_rate, d_p, e_p) \n",
    "\n",
    "print(f\"Project Equity Beta: {project_beta_pe:.5f}\")"
   ]
  },
  {
   "cell_type": "markdown",
   "metadata": {},
   "source": [
    "d.) The formula for project after-tax free cash flow at time t is\n",
    "\n",
    "$$ FCF = (\\text{Revenue}-\\text{Operating Costs}-\\text{Depreciation})\\times(1-\\text{Tax Rate})+\\text{Depreciation}.$$\n",
    "\n",
    "Define a Python function to calculate the project FCFs and demonstrate that the after-tax free cash flow generated for the next three years are $47.7 million, $52.4 million, and $52.6 million respectively. **\\[2 marks\\]**"
   ]
  },
  {
   "cell_type": "code",
   "execution_count": 15,
   "metadata": {},
   "outputs": [
    {
     "name": "stdout",
     "output_type": "stream",
     "text": [
      "The FCF for year 1 is $47.7 million\n",
      "The FCF for year 2 is $52.4 million\n",
      "The FCF for year 3 is $52.6 million\n"
     ]
    }
   ],
   "source": [
    "#Revenues are 98.7, 110.3, 112.6 \n",
    "#Operating Costs are 32, 36, 38\n",
    "#Depreciation is 16, 16, 16\n",
    "#Tax Rate is 0.375\n",
    "#The initial investment is 150 million\n",
    "#FCF = (Revenues - Operating Costs - Depreciation) * (1 - Tax Rate) + Depreciation\n",
    "#The Values from required are stored in the lists below\n",
    "revenues = [98.7, 110.3, 112.6]\n",
    "operating_costs = [32, 36, 38]\n",
    "depreciation = [16, 16, 16]\n",
    "# Append FCFs for NPV and IRR calculation\n",
    "FCFs = [-150]\n",
    "def FCF(revenue, operating_cost, depreciation, tax_rate):\n",
    "    # Calculate the Free Cash Flow using the formula\n",
    "    FCF = (revenue-operating_cost-depreciation) * (1-tax_rate)+depreciation\n",
    "    return FCF #The function returns the Free Cash Flow\n",
    "#The for loop is used to calculate the Free Cash Flow for each year\n",
    "for i in range(len(revenues)):\n",
    "    #The FCF function is called to calculate the Free Cash Flow for each year\n",
    "    fcf= FCF(revenues[i], operating_costs[i], depreciation[i], 0.375)\n",
    "    #The calculated FCF is appended to the FCFs list\n",
    "    FCFs.append(fcf)\n",
    "    #The FCF for each year is printed\n",
    "    print(\"The FCF for year {i} is ${fcf:.1f} million\".format(i=i+1, fcf=fcf))"
   ]
  },
  {
   "cell_type": "markdown",
   "metadata": {},
   "source": [
    "e.) Find the project NPV and IRR with the next three years after-tax free cash flow given in d.).**\\[3 marks\\]**\n",
    "\n",
    "The NPV formula:\n",
    "\n",
    "$$\n",
    "NPV = \\sum_{t=0}^{n} \\frac{FCF_t}{(1 + r)^t} - C_0\n",
    "$$\n",
    "\n",
    "\n",
    "Where:\n",
    "\n",
    "- $C_0$ : the initial investment\n",
    "\n",
    "The IRR formula:\n",
    "\n",
    "$$\n",
    "0 = \\sum_{t=0}^{n} \\frac{FCF_t}{(1 + IRR)^t}\n",
    "$$"
   ]
  },
  {
   "cell_type": "code",
   "execution_count": 16,
   "metadata": {},
   "outputs": [
    {
     "name": "stdout",
     "output_type": "stream",
     "text": [
      "NPV of the project is: $-21.46 million\n",
      "Project IRR: 0.899%\n"
     ]
    }
   ],
   "source": [
    "# Calculate the Net Present Value (NPV) using npf.npv()\n",
    "npv = npf.npv(wacc, FCFs)\n",
    "# Calculate the IRR using npf.irr()\n",
    "irr = npf.irr(FCFs)\n",
    "\n",
    "print(\"NPV of the project is: ${:.2f} million\".format(npv))\n",
    "print(\"Project IRR: {:.3%}\".format(irr))"
   ]
  },
  {
   "cell_type": "markdown",
   "metadata": {},
   "source": [
    "Assume the following is a dividend-paying stock.\n",
    "\n",
    "### Stock:\n",
    "Atat Steel is in the steel manufacturing sector with a required rate of return of 7.35%. You estimate that if the economy is booming, the company’s current annual dividend of $0.8 per share will grow 10.5% a year for the next four years and then stabilize at a 3.5% growth rate a year indefinitely. However, if the economy falls into a recession, then Atat Steel will not likely experience the elevated 10.5% short-run growth and instead will grow by 3.5% indefinitely."
   ]
  },
  {
   "cell_type": "markdown",
   "metadata": {},
   "source": [
    "f.) Use the discount dividend method and find the current value of Atat Steel stock under both economic conditions. **\\[3 marks\\]**\n",
    "\n",
    "The **booming economy scenario**: in order to find the dividened for the first 4 years we use Multi - Staged Dividened Discount Model with the formula\n",
    "\n",
    "$$\n",
    "P_0 = \\sum_{t=1}^H \\frac{D_t}{(1 + r)^t} + \\frac{D_H (1 + g_2)}{(r - g_2)(1 + r)^H}\n",
    "$$\n",
    "\n",
    "$$ \n",
    "Dt = D(t-1) \\times (1 + g_1)^t \n",
    "$$\n",
    "\n",
    "\n",
    "Where:\n",
    "\n",
    "- $P_0$ : Current price of the stock\n",
    "- $D_0$ : Current dividend\n",
    "- $g_1$ : Short-term growth rate\n",
    "- $g_2$: Long-term growth rate\n",
    "- $r$: Required rate of return\n",
    "- $H$ : Number of boom years\n",
    "- $D_t$ : Dividened\n",
    "\n",
    "The the **recession** scenario: in order to find the dividened the Constant Growth Dividened Method is used as demonstrated below.\n",
    "$$\n",
    "P_0 = \\frac{D_0 \\times  (1 + g_2)}{(r - g_2)}\n",
    "$$\n",
    "\n",
    "Where:\n",
    "\n",
    "- $P_0$: Current price of the stock\n",
    "- $D_0$: Current dividend\n",
    "- $g_2$: Constant growth rate\n",
    "- $r$: Required rate of return"
   ]
  },
  {
   "cell_type": "code",
   "execution_count": 17,
   "metadata": {},
   "outputs": [
    {
     "name": "stdout",
     "output_type": "stream",
     "text": [
      "Booming economy stock price: $27.59\n",
      "Recession economy stock price: $21.51\n"
     ]
    }
   ],
   "source": [
    "#Initialise the parameters for both scenarios\n",
    "first_dividend = 0.8\n",
    "required_ror = 0.0735\n",
    "growth_rate = 0.035\n",
    "\n",
    "#Function to find the dividends for the next year when there is growth\n",
    "def Next_year_dividend(dividend, growth_rate):\n",
    "    return dividend*(1+growth_rate)\n",
    "\n",
    "#Function to find the perpetual dividend\n",
    "def perpetual_dividend(dividend, growth_rate, required_ror):\n",
    "    return dividend*(1+growth_rate)/(required_ror-growth_rate)\n",
    "\n",
    "#Function to find the dividends for each year during the growth period\n",
    "def Dividends_growth_period(first_dividend, boom_years):\n",
    "    boom_dividends = []\n",
    "    for i in range(boom_years):\n",
    "        #The first year dividend is calculated using the formula: \n",
    "        #Dividend * (1 + g)\n",
    "        if i == 0:\n",
    "            next_year_dividend = Next_year_dividend(first_dividend,growth_rate_boom)\n",
    "        #The subsequent year dividends are calculated using the formula: \n",
    "        #Previous year Dividend * (1 + g)^the current year\n",
    "        else:\n",
    "            next_year_dividend = Next_year_dividend(boom_dividends[-1],growth_rate_boom)\n",
    "        boom_dividends.append(next_year_dividend)\n",
    "    return boom_dividends\n",
    "\n",
    "#Function to find the NPV of the dividends during the growth period\n",
    "def NPV_dividends_growth(boom_dividends, required_ror):\n",
    "    boom_dividends_npv = 0\n",
    "    for i in range(len(boom_dividends)):\n",
    "        #The NPV of the dividends is calculated using the formula: \n",
    "        #Dividend of year t / (1 + r) ^ t\n",
    "        boom_dividends_npv += boom_dividends[i]/((1+required_ror)**(i+1))\n",
    "    return boom_dividends_npv\n",
    "\n",
    "#This section is for the Booming economy:\n",
    "\n",
    "#Initialise the parameters for the booming economy\n",
    "years_boom = 4\n",
    "growth_rate_boom = 0.105\n",
    "\n",
    "#Calculate the dividends for each year during the booming economy\n",
    "boom_dividends = Dividends_growth_period(first_dividend,years_boom)\n",
    "\n",
    "#Find the NPV for the first 4 years of the booming economy:\n",
    "boom_dividends_npv = NPV_dividends_growth(boom_dividends,required_ror)\n",
    "\n",
    "#Find the perpetual growth rate for the dividends during the booming economy\n",
    "perpetual_boom = perpetual_dividend(boom_dividends[-1],growth_rate,required_ror)\n",
    "\n",
    "# Calculate NPV of perpetual growth dividends during booming economy\n",
    "perpetual_boom_npv = perpetual_boom/((1+required_ror)**years_boom)\n",
    "\n",
    "#Calculate the terminal value of the company during the booming economy\n",
    "P0_boom = boom_dividends_npv + perpetual_boom_npv\n",
    "print(f\"Booming economy stock price: ${P0_boom:.2f}\")\n",
    "\n",
    "#This section is for the Recession economy:\n",
    "P0_recession = perpetual_dividend(first_dividend,growth_rate,required_ror)\n",
    "print(f\"Recession economy stock price: ${P0_recession:.2f}\")"
   ]
  },
  {
   "cell_type": "markdown",
   "metadata": {},
   "source": [
    "\\pagebreak\n",
    "\n",
    "## Question 2: Bonds and Fixed Income **\\[16 marks\\]**\n",
    "In this question, you are given background information on some bonds and you tasked with calculating crucial data about them.\n",
    "\n",
    "### Exhibit 3: Current Par Rates and Spot Rates\n",
    "| Maturity | Par Rate (Annual) | Spot Rate (Annual) |\n",
    "| --- | --- | --- |\n",
    "| 1 year | 2.50% | 2.50% |\n",
    "| 2 years | 3.02% | 3.00% |\n",
    "| 3 years | 3.53% | 3.50% |\n",
    "| 4 years | 3.98% | 4.00% |\n",
    "| 5 years | 4.42% | ? |\n",
    "\n",
    "### Exhibit 4: Information for Selected Bonds\n",
    "| Bond Name | Maturity | Coupon (Annual) | Type of Bond |\n",
    "| --- | --- | --- | --- |\n",
    "| Bond A (Face value $1,000) | 3 years | 6.78% | Option-free |\n",
    "| Bond B | 3 years | 4.30% | Callable at par on start of year 1 and tear 2 |\n",
    "| Bond C | 3 years | 4.30% | Putable at par on start of year 1 and year 2 |\n",
    "\n",
    "### Exhibit 5: Binomial Interest Rate Tree, based on an estimated interest rate volatility of 10%, where ‘u’ represents an up move and ‘d’ represents a down move.\n",
    "| Year 0 | Year 1 | Year 2 |\n",
    "| --- | --- | --- |\n",
    "| 2.3400% (r) | 3.5930% (ru node) | 4.6540% (ruu node) |\n",
    "|  | 2.9417% (rd node) | 3.8043% (rud node) |\n",
    "|  |  | 3.1254% (rdd node) |"
   ]
  },
  {
   "cell_type": "markdown",
   "metadata": {},
   "source": [
    "a.) Based on Exhibit 3, find the five-year spot rate. **\\[2 marks\\]**\n",
    "\n",
    "To calculate the five-year spot rate, we use the following formula\n",
    "\n",
    "$$\n",
    "P = \\sum_{t=1}^{5} \\frac{CF_t}{(1 + S_t)^t} + \\frac{P}{(1 + S_5)^5}\n",
    "$$\n",
    "\n",
    "Where:\n",
    "\n",
    "- $P$: Price of the bond (assume $P = 100 $ for par value)\n",
    "- $CF_t$: Annual coupon payment $C = 100 \\times \\text{Par Rate}$\n",
    "- $S_t$: Known spot rates for $(t = 1, 2, 3, 4)$\n",
    "- $S_5$: The unknown spot rate for 5 years\n",
    "\n",
    "Steps:\n",
    "$$\n",
    "P = \\frac{CF_1}{(1+S_1)}+ \\frac{CF_2}{(1+S_2)^2}+ \\frac{CF_3}{(1+S_3)^3}+ \\frac{CF_4}{(1+S_4)^4}+ \\frac{CF_5 + P}{(1+S_5)^5}\n",
    "$$\n",
    "\n",
    "$$\n",
    "100 = \\frac{CF_1}{(1+S_1)}+ \\frac{CF_2}{(1+S_2)^2}+ \\frac{CF_3}{(1+S_3)^3}+ \\frac{CF_4}{(1+S_4)^4}+ \\frac{CF_5 + 100}{(1+S_5)^5}\n",
    "$$\n",
    "\n",
    "Where:\n",
    "\n",
    "- $CF$: $0.0442 \\times\\ 100$\n",
    "\n",
    "$$\n",
    "100 = \\frac{(4.42)}{(1+0.025)}+ \\frac{(4.42)}{(1+0.03)^2}+ \\frac{(4.42)}{(1+0.035)^3}+ \\frac{(4.42)}{(1+0.04)^4}+ \\frac{(4.42 + 100)}{(1+S_5)^5}\n",
    "$$\n",
    "\n",
    "$$(1+S_5)^5 = 1.247$$\n",
    "\n"
   ]
  },
  {
   "cell_type": "code",
   "execution_count": 18,
   "metadata": {},
   "outputs": [
    {
     "name": "stdout",
     "output_type": "stream",
     "text": [
      "1.2467060896206614\n",
      "The five-year spot rate is: 4.51%\n"
     ]
    }
   ],
   "source": [
    "#The parameters for the calculation are defined\n",
    "spot_rate_list = [0.025, 0.03, 0.035, 0.04]\n",
    "\n",
    "par_rate = 0.0442\n",
    "#Assuming a face value of $100 to calculate the five-year spot rate\n",
    "p = 100\n",
    "\n",
    "def find_spot_rate(p, par_rate, spot_rate_list):\n",
    "    #The spot rate for each year is calculated usiing the formula:\n",
    "    #(p*par) / (1 + spot_rate) ^ t\n",
    "    total_spot_rate_vals = 0\n",
    "    for i in range(len(spot_rate_list)):\n",
    "        total_spot_rate_vals += (p * par_rate)/((1 + spot_rate_list[i])**(i+1))\n",
    "    #The formula (1+S5)^5 = (100+4.42)/(100 - 16.24329032372646)\n",
    "    spot_rate_val_power = (p + (par_rate * p))/(p - total_spot_rate_vals)\n",
    "    print(spot_rate_val_power)\n",
    "    #The spot rate for the 5th year is calculated using the formula:\n",
    "    #S_5 = ((100 + 4.42)/(100 - total_spot_rate_vals)) ^ (1/5) - 1\n",
    "    spot_rate = spot_rate_val_power**(1/(len(spot_rate_list)+1)) - 1\n",
    "\n",
    "    return spot_rate\n",
    "\n",
    "five_year_spot_rate = find_spot_rate(p, par_rate, spot_rate_list)\n",
    "print(\"The five-year spot rate is: {:.2%}\".format(five_year_spot_rate))"
   ]
  },
  {
   "cell_type": "markdown",
   "metadata": {},
   "source": [
    "b.) Assuming the law of one price, use Exhibit 3 to calculate the compounded forward rate (annualy compounded) of a one-year loan starting in three years. **\\[1 mark\\]**\n",
    "\n",
    "$$\n",
    "f_{(34)} = \\frac {(1 + S_4)^4}{(1 + S_3)^3} -1\n",
    "$$\n",
    "Where:\n",
    "\n",
    "- $S_4$: 4.00%\n",
    "- $S_3$: 3.50%\n",
    "\n",
    "$$\n",
    "f_{(34)} = \\frac {(1 + 0.04)^4}{(1 + 0.035)^3} -1\n",
    "$$\n"
   ]
  },
  {
   "cell_type": "code",
   "execution_count": 19,
   "metadata": {},
   "outputs": [
    {
     "name": "stdout",
     "output_type": "stream",
     "text": [
      "The 1-year forward rate in 3 years is: 5.5145%\n"
     ]
    }
   ],
   "source": [
    "#The parameters for the calculation are defined\n",
    "spot_rate_year_3 = 0.035\n",
    "spot_rate_year_4 = 0.04\n",
    "\n",
    "#The spot rate for the 3rd year is 3.5% \n",
    "#and the spot rate for the 4th year is 4% based on Exhibit 3\n",
    "def find_forward_rate(spot_rate_year_3, spot_rate_year_4):\n",
    "    #The forward rate for the 4th year is calculated using the formula:\n",
    "    # (1 + spot_rate_year_4) ^ 4 / (1 + spot_rate_year_3) ^ 3 - 1\n",
    "    forward_rate = ((1 + spot_rate_year_4) ** 4 / (1 + spot_rate_year_3)**3)-1\n",
    "    return forward_rate\n",
    "\n",
    "forward_rate = find_forward_rate(spot_rate_year_3, spot_rate_year_4)\n",
    "print(\"The 1-year forward rate in 3 years is: {:.4%}\".format(forward_rate))"
   ]
  },
  {
   "cell_type": "markdown",
   "metadata": {},
   "source": [
    "c.) Given spot rates for one-, two-, and three-year zero bonds, how many forward rates can be calculated? Please list the compounded forward rates (annualy compounded) that can be calculated and briefly explain your answer. **\\[3 marks\\]**\n",
    "\n"
   ]
  },
  {
   "cell_type": "markdown",
   "metadata": {},
   "source": [
    "Forward Rate Formula:\n",
    "\n",
    "$$\n",
    "f_{T1,T2} = \\frac{(1 + S_2)^{T2}}{(1 + S_1)^{T1}} - 1\n",
    "$$\n",
    "\n",
    "Steps to Calculate Forward Rates:\n",
    "1. Forward rate for a 1-year loan starting in year 1 (in 1 year) given spot rates for year 1 and year 2 ($S_1$ and $S_2$): \n",
    "   $$\n",
    "   f_{1,2} = \\frac{(1 + S_2)^2}{(1 + S_1)} - 1\n",
    "   $$\n",
    "2. Forward rate for a 1-year loan starting in year 2 (in 2 years) given spot rates for year 2 and year 3 ($S_2$ and $S_3$):\n",
    "   $$\n",
    "   f_{2,3} = \\frac{(1 + S_3)^3}{(1 + S_2)^2} - 1\n",
    "   $$\n",
    "3. Forward rate for a 2-year loan starting in year 1 (in 1 year) given spot rates for year 1 and year 3 ($S_1$ and $S_3$):\n",
    "   $$\n",
    "   f_{1,3} = \\frac{(1 + S_3)^3}{(1 + S_1)} - 1\n",
    "   $$"
   ]
  },
  {
   "cell_type": "markdown",
   "metadata": {},
   "source": [
    "d.) Find the yield to maturity for Bond A. **\\[4 marks\\]**\n",
    "\n",
    "In order to calculate yield to maturity of for Bond A, the following formula is used: \n",
    "\n",
    "$$\n",
    "PV = \\sum_{t = 1}^n \\frac{C}{(1 + y)^t} + \\frac{P}{(1+y)^n}\n",
    "$$\n",
    "\n",
    "Where\n",
    "\n",
    "- $PV$ : Present value or price of the bon\n",
    "- $P$ : Face value of the bond (In the case of Bond A = $1000)\n",
    "- $C$ : Annual coupon payments (in the case of Bond A: $1000 \\times 6.78% = $67.8)\n",
    "- $y$ : Yield to maturity of the bond\n",
    "- $n$ : Number of periods to maturity (In case of Bond A this is 3 years)\n",
    "\n",
    "$$\n",
    "1093.14 = \\frac{67.8}{(1 + 0.025)} + \\frac{67.8}{(1 + 0.03)^2} + \\frac{67.8}{(1 + 0.035)^3} + \\frac{1000}{(1 + 0.035)^3}\n",
    "$$\n",
    "$$\n",
    "1093.14 = \\frac{67.8}{(1 + y)} + \\frac{67.8}{(1 + y)^2} + \\frac{67.8}{(1 + y)^3} + \\frac{1000}{(1 + y)^3}\n",
    "$$"
   ]
  },
  {
   "cell_type": "code",
   "execution_count": 20,
   "metadata": {},
   "outputs": [
    {
     "name": "stdout",
     "output_type": "stream",
     "text": [
      "The yield to maturity of Bond A is: 3.46%\n"
     ]
    }
   ],
   "source": [
    "#Defining the spot rates for Bond A\n",
    "face_val = 1000\n",
    "coupan_rate = 0.0678\n",
    "maturity = 3\n",
    "spot_rate_lst = [0.025, 0.03, 0.035]\n",
    "#Defining the function to find the present value of the bond\n",
    "def find_PV(face_val, coupan, maturity, spot_rates):\n",
    "    #The present value of the bond is calculated using the formula:\n",
    "    #(C / (1 + r) ^ t) + (F / (1 + r) ^ t)\n",
    "    coupans = coupan * face_val\n",
    "\n",
    "    PV = 0\n",
    "    for i in range(len(spot_rates)+1):\n",
    "        #The present value of the coupan is calculated for each year \n",
    "        #The present value of the face value for the last year is calculated\n",
    "        #Then all are added to get the present value of the bond\n",
    "        if i == len(spot_rates)-1:\n",
    "            PV += (face_val + coupan) / ((1 + spot_rates[i-1]) ** (i))\n",
    "            break\n",
    "        else:\n",
    "            PV += coupans / ((1 + spot_rates[i]) ** (i+1))\n",
    "    return PV\n",
    "PV = find_PV(face_val, coupan_rate, maturity, spot_rate_list)\n",
    "\n",
    "#Define function to find the yield to maturity\n",
    "def Find_ytm(PV, face_val, coupan, maturity):\n",
    "    #Find the values for the bond to calculate the yield to maturity\n",
    "    vals = [-PV]\n",
    "    #Calculate the coupan for each year \n",
    "    coupans = coupan * face_val\n",
    "    # Append the coupan for each year and the face value for the last year\n",
    "    for i in range(maturity):\n",
    "        if i == maturity-1:\n",
    "            vals.append(face_val + coupans)\n",
    "        else:\n",
    "            vals.append(coupans)\n",
    "    #The yield to maturity is calculated using:\n",
    "    #numpy_financial library's npf.irr() function\n",
    "    ytm = npf.irr(vals)\n",
    "    return ytm\n",
    "\n",
    "ytm = Find_ytm(PV, face_val, coupan_rate, maturity)\n",
    "print(\"The yield to maturity of Bond A is: {ytm:.2%}\".format(ytm=ytm))"
   ]
  },
  {
   "cell_type": "markdown",
   "metadata": {},
   "source": [
    "e.) Based on Exhibit 5, assume an equal probability of interest rate going up and down at each node. Calculate the value of Bond B and Bond C with the binomial tree model. **\\[3 marks\\]**\n",
    "\n",
    "Values acheived for realisations is presented in this table: \n",
    "\n",
    "$$\n",
    "\\begin{array}{|c|c|c|c|}\n",
    "\\hline\n",
    "\\textbf{Realisation} & \\boldsymbol{P_0} & \\boldsymbol{P_1} & \\boldsymbol{P_2} \\\\\n",
    "\\hline\n",
    "uu, u & 1022.63 & 1003.56 & 996.62 \\\\\n",
    "ud, u & 1030.32 & 1011.43 & 1004.78 \\\\\n",
    "ud, d & 1036.58 & 1017.83 & 1004.78 \\\\\n",
    "dd, d & 1042.86 & 1024.26 & 1011.39 \\\\\n",
    "\\hline\n",
    "\\end{array}\n",
    "$$"
   ]
  },
  {
   "cell_type": "code",
   "execution_count": 21,
   "metadata": {},
   "outputs": [
    {
     "name": "stdout",
     "output_type": "stream",
     "text": [
      "Realisation 1(uu, u): P0 = 1022.6300 , P1 = 1003.5595 , P2 = 996.6174\n",
      "Realisation 2(ud, u): P0 = 1030.3249 , P1 = 1011.4345 , P2 = 1004.7753\n",
      "Realisation 3(ud, d): P0 = 1036.5778 , P1 = 1017.8337 , P2 = 1004.7753\n",
      "Realisation 4(dd, d): P0 = 1042.8565 , P1 = 1024.2594 , P2 = 1011.3900\n",
      "\n",
      "Since P1 > 1000 for all 4 realisations hence, bond B will be called back at par on start of year 1\n",
      "The Value of bond B is 1019.152\n",
      "\n",
      "P2 of realisation 1 < 1000, so Bond C will be put at par on start of year 2. Adjusting cash flow of realisation 1.\n",
      "The value of Bond C is, 1033.895\n"
     ]
    }
   ],
   "source": [
    "#Finding the total cashflow for both bonds B and C\n",
    "#The parameters for the calculation are defined\n",
    "ruu,rud,rdd,ru,rd,r0 = 0.04654, 0.038043, 0.031254, 0.03593, 0.029417, 0.0234\n",
    "face_val_B_C = 1000\n",
    "coupan_rate_B_C = 0.043\n",
    "\n",
    "#The total cashflow in Y3:\n",
    "total_cashflow_Y3 = face_val_B_C + coupan_rate_B_C * face_val_B_C\n",
    "coupan_val = coupan_rate_B_C * face_val_B_C\n",
    "\n",
    "def Compute_realisation(face_value, coupan_rate, r2, r1, r0):\n",
    "      #Calculating the total cashflow: Face value + coupan value\n",
    "      tot_cf = face_value + coupan_rate * face_value\n",
    "      \n",
    "      #Calculating the coupan value\n",
    "      coup_val = coupan_rate * face_value\n",
    "\n",
    "      P0 = tot_cf/(1+r2)/(1+r1)/(1+r0)+coup_val/(1+r1)/(1+r0)+coup_val/(1+r0)\n",
    "      P1 = tot_cf/(1+r2)/(1+r1) + coup_val/(1+r1)\n",
    "      P2 = tot_cf/(1+r2)\n",
    "\n",
    "      return P0, P1, P2\n",
    "\n",
    "#Computing realisation 1: \n",
    "P1_0, P1_1, P1_2 = Compute_realisation(face_val_B_C,coupan_rate_B_C,ruu,ru,r0)\n",
    "print(\"Realisation 1(uu, u): P0 =\", '{0:.4f}'.format(P1_0),\n",
    "      \", P1 =\", '{0:.4f}'.format(P1_1), \n",
    "      \", P2 =\", '{0:.4f}'.format(P1_2))\n",
    "\n",
    "\n",
    "#Computing realisation 2:\n",
    "P2_0, P2_1, P2_2 = Compute_realisation(face_val_B_C,coupan_rate_B_C,rud,ru,r0)\n",
    "print(\"Realisation 2(ud, u): P0 =\", '{0:.4f}'.format(P2_0),\n",
    "      \", P1 =\", '{0:.4f}'.format(P2_1), \n",
    "      \", P2 =\", '{0:.4f}'.format(P2_2))\n",
    "\n",
    "#Computing realisation 3:\n",
    "P3_0, P3_1, P3_2 = Compute_realisation(face_val_B_C,coupan_rate_B_C,rud,rd,r0)\n",
    "print(\"Realisation 3(ud, d): P0 =\", '{0:.4f}'.format(P3_0),\n",
    "      \", P1 =\", '{0:.4f}'.format(P3_1), \n",
    "      \", P2 =\", '{0:.4f}'.format(P3_2))\n",
    "\n",
    "#Computing realisation 4:\n",
    "P4_0, P4_1, P4_2 = Compute_realisation(face_val_B_C, coupan_rate_B_C,rdd,rd,r0)\n",
    "print(\"Realisation 4(dd, d): P0 =\", '{0:.4f}'.format(P4_0),\n",
    "      \", P1 =\", '{0:.4f}'.format(P4_1), \n",
    "      \", P2 =\", '{0:.4f}'.format(P4_2))\n",
    "\n",
    "\n",
    "print(\"\\nSince P1 > 1000 for all 4 realisations hence, bond B will be called back at par on start of year 1\")\n",
    "#Finding the value of Bond B\n",
    "V_b = (face_val_B_C + coupan_val)/(1+r0)\n",
    "print(\"The Value of bond B is {v_b:.3f}\".format(v_b=V_b))\n",
    "\n",
    "print(\"\\nP2 of realisation 1 < 1000, so Bond C will be put at par on start of year 2. Adjusting cash flow of realisation 1.\")\n",
    "\n",
    "#Adjusting the cashflow for realisation 1 to find the value of Bond C\n",
    "P1_0_adj = total_cashflow_Y3/(1+ru)/(1+r0) + coupan_val/(1+r0)\n",
    "\n",
    "#Finding the value of Bond C \n",
    "V_c = 0.25*P1_0_adj + 0.25 * P2_0 + 0.25 * P3_0 + 0.25 * P4_0\n",
    "print(\"The value of Bond C is, {v_c:.3f}\".format(v_c=V_c))"
   ]
  },
  {
   "cell_type": "markdown",
   "metadata": {},
   "source": [
    "f.) All else being equal, explain the effect of a fall in interest rates on Bond B and Bond C. **\\[2 marks\\]**"
   ]
  },
  {
   "cell_type": "markdown",
   "metadata": {},
   "source": [
    "Bond prices have an inverse relation; hence, with a fall in interest rates, bond prices usually increase. Since Bond B has a high price in all realisations, it will be called back at the start of year 1 regardless of any change in the interest rates. However, a lower interest rate will increase the market value of Bond B until it is called. \n",
    "In Bond C, the putable bond, a fall in the interest rates leads to a significant price growth benefitting the bondholder. Since the bond price exceeds the put price in realisation 1 and other scenarios, the bondholder could achieve a higher return by holding the bond rather than exercising the put option."
   ]
  },
  {
   "cell_type": "markdown",
   "metadata": {},
   "source": [
    "g.) All else being equal, which bond is most likely to increase in value if interest rate volatility is 15% rather than 10%? Briefly explain your answer. (Hint: consider the value of options) **\\[1 mark\\]**"
   ]
  },
  {
   "cell_type": "markdown",
   "metadata": {},
   "source": [
    "Bond C, the putable bond, is more likely to increase in value if interest rate volatility rises from 10% to 20%. This is because the value of embedded options, whether call or put, increases with higher volatility. Increased volatility raises the likelihood that the bond's market price will fall below the put price, making the put option more valuable for the bondholder.\n",
    "\n",
    "While Bond B, the callable bond, also gains value with higher volatility, its price is capped due to the callable feature, which limits its upside potential. Additionally, higher volatility increases the chances of the issuer calling Bond B to avoid further losses, which may reduce the bond's value from the bondholder's perspective. Therefore, Bond C is more sensitive to increased volatility and likelier to experience a more significant value increase than Bond B. # Answer here"
   ]
  },
  {
   "cell_type": "markdown",
   "metadata": {},
   "source": [
    "\\pagebreak\n",
    "\n",
    "## Question 3: Forward and Futures Contracts **\\[12 marks\\]**\n",
    "In this question you will be working with futures and forward contracts\n",
    "\n",
    "Consider a stock that is trading at $100 today. The stock does not generate income/pay dividends. The stock is traded in a well-functioning market with no transaction costs and no restrictions on short sales. Both borrowing and lending can be done in unlimited amounts at the 2% risk-free rate."
   ]
  },
  {
   "cell_type": "markdown",
   "metadata": {},
   "source": [
    "a.) What is the difference between forward contracts and futures contracts (Answers should be no longer than 200 words) **\\[4 marks\\]**"
   ]
  },
  {
   "cell_type": "markdown",
   "metadata": {},
   "source": [
    "**Answer**:\n",
    "\n",
    "Forward contracts are agreements between two parties to buy or sell an asset at a future date for a price agreed upon today. This is an over-the-counter agreement so they are privately negotiated between two parties and the contract terms are customised to fit the needs. Since each contract is tailor-made, it's not standardised, giving flexibility but less liquidity. This comes with higher credit risk because there is no intermediary to guarantee the transaction. The forward contracts are mainly used for hedging.\n",
    "\n",
    "Future contracts are standardised agreements traded on an exchange. It is marked-to-market daily, meaning gains and losses are settled daily so the credit risk is reduced. The terms of this contract are set by an exchange and the contract is fully standardised, ensuring high liquidity and ease of trading. The credit risk is reduced as mentioned previously, but also because there is a margin system in place to manage risk. Future contracts can be used for both hedging and speculative purposes.\n"
   ]
  },
  {
   "cell_type": "markdown",
   "metadata": {},
   "source": [
    "b.) Consider a futures contract on the stock with a maturity of one year. Suppose that the futures price is currently at $97. Are the futures fairly priced? Describe an arbitrage strategy that would allow you to make a riskless profit. **\\[2 marks\\]**"
   ]
  },
  {
   "cell_type": "markdown",
   "metadata": {},
   "source": [
    "**Answer here:**\n",
    "\n",
    "**No this is not fairly priced**, as the future price can be expected as approximately $102. Here is the calculation.\n",
    "\n",
    "To calculate the future value, the following formula can be used:\n",
    "\n",
    "$$\n",
    "F = S \\cdot e^{rT}\n",
    "$$\n",
    "\n",
    "where \\( S \\) is the current price of the asset, \\( r \\) is the risk-free interest rate and \\( T \\) is the time to maturity in years.\n",
    "\n",
    "However, I have simplified this into the following equation by using Taylor series, as in this question it is assumed that the maturity of the stock is only one year and the formula above might compute a large error in a short time to maturity. The following formula can be used instead:\n",
    "\n",
    "$$\n",
    "F = S \\cdot (1 + r)^T\n",
    "$$\n",
    "\n",
    "Applying this question into this formula,\n",
    "\n",
    "$$\n",
    "F = 100 \\cdot (1 + 0.02)^1 = 102\n",
    "$$\n",
    "\n",
    "The expected future price is **$102**.\n",
    "\n",
    "\n",
    "**To make a riskless profit:**\n",
    "\n",
    "1. Buy the futures contract at $97, meaning we agree to buy the stock after a year for $97. \n",
    "\n",
    "2. Short-sell the stock today at the spot price, which in this case $100.\n",
    "\n",
    "3. Invest the proceeds ($100) from the short sale at the risk-free rate. \n",
    "\n",
    "This will gain the total riskless profit of approximately $5 per share. This is possible by using the $102 which gained from investing $100 at the 2% of risk-free rate and spending that money to buy the stock at $97. Therefore:\n",
    "$$\n",
    "102 - 97 = 5\n",
    "$$\n",
    "\n",
    "The riskless profit will be **$5 per share**. \n"
   ]
  },
  {
   "cell_type": "markdown",
   "metadata": {},
   "source": [
    "c.) Same as question b) but suppose that the futures price is currently at $103. Describe your arbitrage strategy. **\\[2 marks\\]**"
   ]
  },
  {
   "cell_type": "markdown",
   "metadata": {},
   "source": [
    "**Answer here**:\n",
    "\n",
    "**No this is not fairly priced also** since the expected future price will be approximately $102, as calculated above. \n",
    "\n",
    "To gain a riskless profit, this can be an arbitrage strategy:\n",
    "\n",
    "1. Sell the futures contract at $103, meaning we agree to sell the stock in a year at $103. \n",
    "2. Buy the stock today at the spot price, which in this case $100.\n",
    "3. Borrow money at the risk-free rate 2% to finance the stock purchase.\n",
    "\n",
    "In this way, the total gain or loss after a year can be calculated as follows:\n",
    "\n",
    "- Borrow $100 today at 2% for one year. The repayment amount after one year is:\n",
    "  $$\n",
    "  100 \\cdot (1 + 0.02)^1 = 102\n",
    "  $$\n",
    "- At maturity:\n",
    "  - Deliver the stock as per the futures contract to receive $103.\n",
    "  - Use $102 to repay the loan.\n",
    "\n",
    "The remaining profit is:\n",
    "\n",
    "$$\n",
    "103 - 102 = 1\n",
    "$$\n",
    "\n",
    "Therefore, the riskless profit will be **$1 per share**. "
   ]
  },
  {
   "cell_type": "markdown",
   "metadata": {},
   "source": [
    "d.) Consider a stock with the market value of $76 that pays 5% dividend yield over the next year. Given the risk-free rate of return is 3%, and the agreed delivery price is $73, what is the present value of the forward contract with one year maturity? **\\[2 marks\\]**"
   ]
  },
  {
   "cell_type": "markdown",
   "metadata": {},
   "source": [
    "The following formula can be used in this situation:\n",
    "\n",
    "The formula to calculate the future value is:\n",
    "\n",
    "$$\n",
    "F = S \\cdot e^{(r - q)T}\n",
    "$$\n",
    "\n",
    "Where:\n",
    "\n",
    "- $S$: Current stock price $76$\n",
    "- $r$: Risk-free interest rate (\\(0.03\\) or 3\\%)\n",
    "- $q$: Dividend yield (\\(0.05\\) or 5\\%)\n",
    "- $T$: Time to maturity in years (\\(1\\))\n"
   ]
  },
  {
   "cell_type": "code",
   "execution_count": 22,
   "metadata": {},
   "outputs": [
    {
     "name": "stdout",
     "output_type": "stream",
     "text": [
      "The present value of the forward contract with one year maturity is: $-1.50\n"
     ]
    }
   ],
   "source": [
    "spot_price = 76\n",
    "risk_free_rate2 = 0.03\n",
    "dividend_yield = 0.05\n",
    "time_to_maturity = 1\n",
    "delivery_price = 73\n",
    "\n",
    "def calculate_forward_price(spot_price, risk_free_rate, dividend_yield, time_to_maturity):\n",
    "    forward_price = spot_price * np.exp((risk_free_rate-dividend_yield)*time_to_maturity)\n",
    "    return forward_price\n",
    "\n",
    "forward_price = calculate_forward_price(spot_price, risk_free_rate2, dividend_yield, time_to_maturity)\n",
    "\n",
    "def calculate_pv_with_divident(forward_price, delivery_price):\n",
    "    pv = (delivery_price - forward_price)\n",
    "    return pv\n",
    "\n",
    "print(\"The present value of the forward contract with one year maturity is: ${pv:.2f}\".format(pv=calculate_pv_with_divident(forward_price, delivery_price)))"
   ]
  },
  {
   "cell_type": "markdown",
   "metadata": {},
   "source": [
    "e.) Consider the same conditions as in part d.), but with the dividend of $3, what is the present value of the forward contract? **\\[2 marks\\]**"
   ]
  },
  {
   "cell_type": "markdown",
   "metadata": {},
   "source": [
    "Almost the same as the previous question, but in this question instead of provision of divident yield, the actual divident has been given so we decided to use them directly. Here is the formula that we applied:\n"
   ]
  },
  {
   "cell_type": "code",
   "execution_count": 23,
   "metadata": {},
   "outputs": [
    {
     "name": "stdout",
     "output_type": "stream",
     "text": [
      "The present value of the forward contract with one year maturity is: $-2.22\n"
     ]
    }
   ],
   "source": [
    "# To consider the dividend, we need to substract from the spot price\n",
    "dividend = 3\n",
    "spot_price = 76\n",
    "risk_free_rate2 = 0.03\n",
    "dividend_yield = 0  # Since this is already given as a numerical value (discrete dividend)\n",
    "time_to_maturity = 1\n",
    "delivery_price = 73\n",
    "\n",
    "updated_spot_price = spot_price - dividend\n",
    "\n",
    "forward_price2 = calculate_forward_price(updated_spot_price, risk_free_rate2, dividend_yield, time_to_maturity)\n",
    "print(\"The present value of the forward contract with one year maturity is: ${pv:.2f}\".format(pv=calculate_pv_with_divident(forward_price2, delivery_price)))"
   ]
  },
  {
   "cell_type": "markdown",
   "metadata": {},
   "source": [
    "\\pagebreak\n",
    "# Question 4: Options **\\[16 Marks\\]**\n",
    "In this question, you will be working with options.\n",
    "\n",
    "Suppose that you hold a long position on a European call option that has an underlying asset price of $45.34, strike price of $44, risk-free rate of 1.5%, 20% annualized volatility, and a half-a-year left to maturity. The underlying asset does not have any investment yield."
   ]
  },
  {
   "cell_type": "markdown",
   "metadata": {},
   "source": [
    "a.) Value this call option. **\\[1 mark\\]**"
   ]
  },
  {
   "cell_type": "markdown",
   "metadata": {},
   "source": [
    "To estimate the price of a European call option, the Black-Scholes-Merton model provides a closed-form solution. Below are the key formulas used in the model:\n",
    "\n",
    "$$\n",
    "   d_1 = \\frac{\\ln\\left(\\frac{S_0}{K}\\right) + \\left(r + \\frac{\\sigma^2}{2}\\right)T}{\\sigma \\sqrt{T}} = \\frac{\\ln\\left(\\frac{45.34}{44}\\right) + \\left(0.015 + \\frac{0.2^2}{2}\\right)0.5}{0.2 \\sqrt{0.5}} = 0.336\n",
    "$$\n",
    "\n",
    "$$\n",
    "   d_2 = d_1 - \\sigma \\sqrt{T} = 0.336 - 0.2 \\sqrt{0.5} = 0.2\n",
    "$$\n",
    "\n",
    "$$\n",
    "   N = \\frac{1}{\\sqrt{2\\pi}} \\int_{-\\infty}^{d} e^{-\\frac{1}{2}x^2} dx\n",
    "   $$ \n",
    "\n",
    "   $$\n",
    "   c = S_0 N(d_1) - K e^{-rT} N(d_2) = 45.34 N(0.336) - 44 e^{-0.015 \\times 0.5} N(0.2) = 3.43\n",
    "   $$\n",
    "\n",
    "   Where:\n",
    "\n",
    "   - $S_0$: Current stock price $45.34\n",
    "   - $K$: Strike price $44\n",
    "   - $r$: Risk-free rate 1.5% or 0.015\n",
    "   - $\\sigma$: Volatility 20% or 0.2\n",
    "   - $T$: Time to maturity 0.5 years\n",
    "   - $N()$: Cumulative distribution function of the standard normal distribution\n"
   ]
  },
  {
   "cell_type": "code",
   "execution_count": 24,
   "metadata": {},
   "outputs": [
    {
     "name": "stdout",
     "output_type": "stream",
     "text": [
      "The price of the call option is: $3.43\n"
     ]
    }
   ],
   "source": [
    "s_0 = 45.34 # Current stock price\n",
    "s_p = 44    # Strike priceQD\n",
    "rf = 0.015  # Risk-free rate\n",
    "sigma = 0.2 # Volatility\n",
    "t = 0.5     # Time to maturity\n",
    "\n",
    "def find_option_price(s_0, K, r, sigam, T):\n",
    "    # Calculate the d1 and d2 values\n",
    "    d1 = (np.log(s_0/K) + (r + (sigam**2)/2) * T) / (sigam * np.sqrt(T))\n",
    "    d2 = d1 - sigam * np.sqrt(T)\n",
    "    # Calculate the call option price\n",
    "    c = s_0 * sp.stats.norm.cdf(d1) - K * np.exp(-r * T) * sp.stats.norm.cdf(d2)\n",
    "    return c\n",
    "\n",
    "c = find_option_price(s_0, s_p, rf, sigma, t)\n",
    "print(f\"The price of the call option is: ${c:.2f}\")"
   ]
  },
  {
   "cell_type": "markdown",
   "metadata": {},
   "source": [
    "b.) Based on the Black-Scholes-Merton model, describe a portfolio that replicates the call option’s payoff. **\\[1 mark\\]**"
   ]
  },
  {
   "cell_type": "markdown",
   "metadata": {},
   "source": [
    "To replicate the payoff of a call option at expiration, we construct a portfolio that mimics its behavior. Using the **Black-Scholes-Merton (BSM)** model, we calculate the key parameters $d_1$ and $d_2$ to determine the appropriate portfolio weights. This portfolio consists of three components: a long position in the underlying stock, a long put option with the same strike price $K$, and a cash position of $-K$ borrowed at the risk-free rate. By combining these components, the portfolio can perfectly replicate the call option’s payoff:\n",
    "\n",
    "- If $S_T \\leq K$: $0$\n",
    "- If $S_T > K$: $S_T - K$\n",
    "\n",
    "\n",
    "**Stock**:\n",
    "\n",
    "  - When $S_T \\leq K$, the value of the stock is $S_T$.\n",
    "  - When $S_T > K$, the value of the stock remains $S_T$.\n",
    "\n",
    "**Put Option**:\n",
    "\n",
    "  - When $S_T \\leq K$, the put option’s value is $K - S_T$, representing the payoff from exercising the option.\n",
    "  - When $S_T > K$, the put option’s value is $0$, as the option is not exercised.\n",
    "\n",
    "**Cash**:\n",
    "\n",
    "  - Regardless of whether $S_T \\leq K$ or $S_T > K$, the cash value is always $-K$, representing the repayment of the borrowed amount.\n",
    "\n",
    "The portfolio payoff calculation is as follows:\n",
    "\n",
    "- If $S_T \\leq K$: $\\text{Portfolio payoff} = S_T + (K - S_T) + (-K) = 0$\n",
    "- If $S_T > K$: $\\text{Portfolio payoff} = S_T + 0 + (-K) = S_T - K$\n",
    "\n",
    "Using the BSM model to compute $N(d_1)$ and $N(d_2)$, the portfolio weights are:\n",
    "\n",
    "- **Stock**: $S_0 N(d_1)$\n",
    "- **Cash**: $K e^{-rT} N(d_2)$\n",
    "\n",
    "Thus, by combining these components, the portfolio’s payoff matches the call option’s payoff exactly, under all scenarios at expiration."
   ]
  },
  {
   "cell_type": "code",
   "execution_count": 25,
   "metadata": {},
   "outputs": [
    {
     "name": "stdout",
     "output_type": "stream",
     "text": [
      "Call option price: $3.43\n",
      "Replicating portfolio value: $3.43\n",
      "Stock position: $28.63\n",
      "Borrowed cash: $25.20\n"
     ]
    }
   ],
   "source": [
    "# Calculate the value of the replicating portfolio\n",
    "d1 = (np.log(s_0 / s_p) + (rf + 0.5 * sigma ** 2) * t) / (sigma * np.sqrt(t))\n",
    "d2 = d1 - sigma * np.sqrt(t)\n",
    "\n",
    "# Calculate the value of the replicating portfolio\n",
    "c = s_0 * sp.stats.norm.cdf(d1) - s_p * np.exp(-rf * t) * sp.stats.norm.cdf(d2)\n",
    "\n",
    "# Calculate the stock position and borrowed cash\n",
    "stock_part = s_0 * sp.stats.norm.cdf(d1) \n",
    "borrowed_cash = s_p * np.exp(-rf * t) * sp.stats.norm.cdf(d2) \n",
    "# Calculate the value of the replicating portfolio\n",
    "portfolio_value = stock_part - borrowed_cash \n",
    "print(f\"Call option price: ${c:.2f}\")\n",
    "print(f\"Replicating portfolio value: ${portfolio_value:.2f}\")\n",
    "print(f\"Stock position: ${stock_part:.2f}\")\n",
    "print(f\"Borrowed cash: ${borrowed_cash:.2f}\")"
   ]
  },
  {
   "cell_type": "markdown",
   "metadata": {},
   "source": [
    "The replicating portfolio value $S_0 N(d_1) - K e^{-rT} N(d_2)$ matches the European call option price, confirming that the portfolio payoff exactly replicates the call option’s payoff under all expiration scenarios.\n"
   ]
  },
  {
   "cell_type": "markdown",
   "metadata": {},
   "source": [
    "c.) Define a function to price the option with the binomial tree method. The function should take the number of steps (n) as one of the inputs. You should NOT use list comprehension in the function. **\\[3 marks\\]**"
   ]
  },
  {
   "cell_type": "markdown",
   "metadata": {},
   "source": [
    "\n",
    "**Upward and Downward Movement Factors ($u$ and $d$):**\n",
    "$$\n",
    "   \\Delta t = \\frac{T}{n}, \\quad u = e^{\\sigma \\sqrt{\\Delta t}}, \\quad d = e^{-\\sigma \\sqrt{\\Delta t}} = \\frac{1}{u}\n",
    "$$\n",
    "\n",
    "**Risk-neutral Probability ($p$):**\n",
    "$$\n",
    "   p = \\frac{e^{r \\Delta t} - d}{u - d}\n",
    "$$\n",
    "\n",
    "**Stock Price at Each Node ($S_p[i]$):**\n",
    "$$\n",
    "   S_p[0] = S_0 \\cdot d^n, \\quad S_p[i] = S_p[i-1] \\cdot \\frac{u}{d}, \\quad i = 1, 2, \\dots, n\n",
    "$$\n",
    "\n",
    "**Option Price Recursion ($f^{(j, i)}$):**\n",
    "$$\n",
    "   f^{(j, i)} = e^{-r \\Delta t} \\cdot \\left(p f^{(j+1, i+1)} + (1-p) f^{(j+1, i)}\\right), \\quad j = n-1, n-2, \\dots, 0, \\, i = 0, 1, \\dots, j\n",
    "$$\n"
   ]
  },
  {
   "cell_type": "code",
   "execution_count": 26,
   "metadata": {},
   "outputs": [],
   "source": [
    "def binomial_tree(s_0, K, r, sigma, T, n):\n",
    "    dt = T / n \n",
    "    u = np.exp(sigma * np.sqrt(dt))\n",
    "    d = 1 / u                                                 \n",
    "    p = (np.exp(r * dt) - d) / (u - d)\n",
    "    discount = np.exp(-r * dt)\n",
    "\n",
    "    # Initialize the stock price tree\n",
    "    s_p  =  np.zeros(n+1)\n",
    "    s_p[0] = s_0 * d**n\n",
    "    for i in range(1, n+1):\n",
    "        s_p[i] = s_p[i-1] * u / d\n",
    "\n",
    "    # Initialize the option value at maturity\n",
    "    option = np.zeros(n+1)\n",
    "    for i in range(n+1):\n",
    "        option[i] = max(s_p[i] - K, 0)\n",
    "    \n",
    "    # Calculate the option price at each node\n",
    "    for j in range(n-1, -1, -1):\n",
    "        for i in range(j+1):\n",
    "            option[i] = discount * (p * option[i+1] + (1-p) * option[i])\n",
    "\n",
    "    return option[0]"
   ]
  },
  {
   "cell_type": "markdown",
   "metadata": {},
   "source": [
    "d.) By setting n = 10, 50 and 100, compare and comment on the results under the two methods. **\\[2 marks\\]**"
   ]
  },
  {
   "cell_type": "markdown",
   "metadata": {},
   "source": [
    "$$\n",
    "   \\Delta t = \\frac{T}{n} = \\frac{0.5}{n}, \\quad u = e^{\\sigma \\sqrt{\\Delta t}} = e^{0.2 \\sqrt{\\frac{0.5}{n}}}, \\quad d = e^{-\\sigma \\sqrt{\\Delta t}} = e^{-0.2 \\sqrt{\\frac{0.5}{n}}} = \\frac{1}{u}  \n",
    "$$\n",
    "   \n",
    "$$\n",
    "   p = \\frac{e^{r \\Delta t} - d}{u - d} = \\frac{e^{0.015 \\times \\frac{0.5}{n}} - e^{-0.2 \\sqrt{\\frac{0.5}{n}}}}{e^{0.2 \\sqrt{\\frac{0.5}{n}}} - e^{-0.2 \\sqrt{\\frac{0.5}{n}}}}\n",
    "$$\n",
    "\n",
    "$$\n",
    "   S_p[0] = S_0 \\cdot d^n = 45.34 \\cdot e^{-n \\cdot 0.2 \\cdot \\sqrt{\\frac{0.5}{n}}}, \\quad  S_p[i] = S_p[i-1] \\cdot e^{2 \\cdot 0.2 \\cdot \\sqrt{\\frac{0.5}{n}}}, \\quad i = 1, 2, \\dots, n\n",
    "$$\n",
    "\n",
    "$$\n",
    "   f^{(j, i)} = e^{-r \\Delta t} \\cdot \\left(p f^{(j+1, i+1)} + (1-p) f^{(j+1, i)}\\right), \\quad j = n-1, n-2, \\dots, 0, \\, i = 0, 1, \\dots, j\n",
    "$$\n",
    "\n",
    "Where:\n",
    "- $n$: Number of steps in the binomial tree $n \\in (10, 50, 100)$"
   ]
  },
  {
   "cell_type": "code",
   "execution_count": 27,
   "metadata": {},
   "outputs": [
    {
     "name": "stdout",
     "output_type": "stream",
     "text": [
      "The price of the call option using the binomial option pricing model (10 steps) is: $3.4759\n",
      "The price of the call option using the binomial option pricing model (50 steps)  is: $3.4369\n",
      "The price of the call option using the binomial option pricing model (100 steps) is: $3.4274\n"
     ]
    }
   ],
   "source": [
    "print (\"The price of the call option using the binomial option pricing model (10 steps) is: ${option_price:.4f}\".format(option_price=binomial_tree(s_0, s_p, rf, sigma, t, 10)))\n",
    "print (\"The price of the call option using the binomial option pricing model (50 steps)  is: ${option_price:.4f}\".format(option_price=binomial_tree(s_0, s_p, rf, sigma, t, 50)))\n",
    "print (\"The price of the call option using the binomial option pricing model (100 steps) is: ${option_price:.4f}\".format(option_price=binomial_tree(s_0, s_p, rf, sigma, t, 100)))"
   ]
  },
  {
   "cell_type": "markdown",
   "metadata": {},
   "source": [
    "When buying two calls with the exercises price of $x_{1}$ and $x_{3}$ and selling two calls with the exercise price of $x_{2}$, where\n",
    "$$x_{2} = \\frac{x_{1}+x_{3}}{2},$$\n",
    "with the same maturity for the same stock, we call it a butterfly. Consider the following call options for the stock that trades at $57.03:\n",
    "\n",
    "| Option Name | Strike Price | Call Premium (Price) |\n",
    "| --- | --- | --- |\n",
    "| Call Option 1 | 50 | 10 |\n",
    "| Call Option 2 | 55 | 7 |\n",
    "| Call Option 3 | 60 | 5 |"
   ]
  },
  {
   "cell_type": "markdown",
   "metadata": {},
   "source": [
    "e.) Create a graphical representation of the butterfly strategy’s payoff. **\\[2 marks\\]**"
   ]
  },
  {
   "cell_type": "markdown",
   "metadata": {},
   "source": [
    "**Payoff for Long Call at $x_1$**\n",
    "$$\n",
    "   \\text{Payoff}_{x_1} = \\max(0, S - x_1) - p_1 = \\max(0, S - 50) - 10\n",
    "$$\n",
    "\n",
    "**Payoff for Short 2 Calls at $x_2$:**\n",
    "$$\n",
    "   \\text{Payoff}_{x_2} = -2 \\cdot \\left[\\max(0, S - x_2) - p_2\\right] = -2 \\cdot \\left[\\max(0, S - 55) - 7\\right]\n",
    "$$\n",
    "\n",
    "**Payoff for Long Call at $x_3$:**\n",
    "$$\n",
    "   \\text{Payoff}_{x_3} = \\max(0, S - x_3) - p_3 = \\max(0, S - 60) - 5\n",
    "$$\n",
    "\n",
    "**Total Payoff for Butterfly Spread:**\n",
    "$$\n",
    "   \\text{Total Payoff} = \\text{Payoff}_{x_1} + \\text{Payoff}_{x_2} + \\text{Payoff}_{x_3} = \\max(0, S - 50) - 10 - 2 \\cdot \\left[\\max(0, S - 55) - 7\\right] + \\max(0, S - 60) - 5\n",
    "$$\n",
    "\n",
    "Where:\n",
    "\n",
    "- $S$: Stock price at expiration $S \\in [40, 69]$\n",
    "- $p_1, p_2, p_3$: Premiums for the call options $x_1, x_2, x_3$"
   ]
  },
  {
   "cell_type": "code",
   "execution_count": 28,
   "metadata": {},
   "outputs": [
    {
     "data": {
      "image/png": "[encoded data removed]",
      "text/plain": [
       "<Figure size 1000x600 with 1 Axes>"
      ]
     },
     "metadata": {},
     "output_type": "display_data"
    }
   ],
   "source": [
    "x1 = 50   # Strike price of the first call option\n",
    "x2 = 55   # Strike price of the second call option\n",
    "x3 = 60   # Strike price of the third call option\n",
    "p1 = 10   # Premium of the first call option\n",
    "p2 = 7    # Premium of the second call option\n",
    "p3 = 5    # Premium of the third call option\n",
    "\n",
    "stock_prices = np.arange(40, 70, 1) # Stock prices at maturity\n",
    "\n",
    "payoff_x1_long = [max(0, price - x1) - p1 for price in stock_prices]\n",
    "payoff_x2_short = [-2 * (max(0, price - x2) - p2) for price in stock_prices]\n",
    "payoff_x3_long = [max(0, price - x3) - p3 for price in stock_prices]\n",
    "# Calculate the total payoff\n",
    "total_payoff = [p1 + p2 + p3 for p1, p2, p3 in \n",
    "                zip(payoff_x1_long, payoff_x2_short, payoff_x3_long)] \n",
    "\n",
    "max_payoff_index = np.argmax(total_payoff)\n",
    "# Find the stock price at which the maximum payoff occurs\n",
    "max_payoff_price = stock_prices[max_payoff_index]\n",
    "# Find the maximum payoff value\n",
    "max_payoff_value = total_payoff[max_payoff_index]\n",
    "\n",
    "plt.figure(figsize=(10, 6))\n",
    "plt.plot(stock_prices, payoff_x1_long, label='Long Call at x1', linestyle='--')\n",
    "plt.plot(stock_prices, payoff_x2_short, label='Short 2 Calls at x2', linestyle='--')\n",
    "plt.plot(stock_prices, payoff_x3_long, label='Long Call at x3', linestyle='--')\n",
    "plt.plot(stock_prices, total_payoff, label='Total Butterfly Payoff', \n",
    "         color='blue', linewidth=2)\n",
    "plt.axhline(0, color='black', linestyle='--', linewidth=0.8)  # Zero line\n",
    "plt.axvline(x=max_payoff_price, color='red', linestyle='-', linewidth=1, \n",
    "label=f'Max Payoff at \\${max_payoff_price} (\\${max_payoff_value:.2f})')\n",
    "plt.title('Butterfly Spread Strategy Payoff')\n",
    "plt.xlabel('Stock Price at Maturity ($)')\n",
    "plt.ylabel('Payoff ($)')\n",
    "plt.legend()\n",
    "plt.grid(True)\n",
    "plt.show()"
   ]
  },
  {
   "cell_type": "markdown",
   "metadata": {},
   "source": [
    "f.) Why might an investor enter into such a strategy? **\\[2 marks\\]**"
   ]
  },
  {
   "cell_type": "markdown",
   "metadata": {},
   "source": [
    "Solution:\n",
    "\n",
    "The butterfly strategy is well-suited for investors anticipating low market volatility, as it profits most when the stock price stays near the middle strike price, $K_2 = 55$. The chart illustrates that this strategy features limited risk, with losses capped beyond the lower strike price $K_1 = 50$ and the upper strike price $K_3 = 60$. Its maximum reward occurs at $K_2$, where the net payoff peaks at $\\$4.00$. This cost-efficient and risk-defined strategy appeals to risk-averse investors seeking to benefit from range-bound market conditions while minimizing potential losses."
   ]
  },
  {
   "cell_type": "markdown",
   "metadata": {},
   "source": [
    "g.) Use binomial model (set some arbitrary high number of iterations) to price the european butterfly option from part e.), assuming it has 1 year to maturity, the risk-free rate is 1.5% and the annualized volatility of the underlying stock is 15%. **\\[5 marks\\]**"
   ]
  },
  {
   "cell_type": "markdown",
   "metadata": {},
   "source": [
    "\n",
    "**Butterfly Spread Payoff at Maturity ($\\text{Payoff}[i]$):**\n",
    "$$\n",
    "   \\text{Payoff}[i] = \\max(S_p[i] - k_1, 0) - 2 \\cdot \\max(S_p[i] - k_2, 0) + \\max(S_p[i] - k_3, 0)\n",
    "$$\n",
    "\n",
    "Where:\n",
    "\n",
    "- $S_p[i]$: Stock price at node $i$\n",
    "- $k_1$, $k_2$, $k_3$: Strike prices of the call options\n",
    "- $\\max(a, b)$: Maximum of $a$ and $b$\n",
    "\n",
    "\n",
    "**Backward Recursion Using Payoff ($\\text{Payoff}^{(j, i)}$):**\n",
    "$$\n",
    "   \\text{Payoff}^{(j, i)} = e^{-r \\Delta t} \\cdot \\left(p \\cdot \\text{Payoff}^{(j+1, i+1)} + (1 - p) \\cdot \\text{Payoff}^{(j+1, i)}\\right), \\quad j = n-1, n-2, \\dots, 0, \\, i = 0, 1, \\dots, j\n",
    "$$\n",
    "\n",
    "Where:\n",
    "\n",
    "- $\\Delta t = \\frac{T}{n}$ is the time step\n",
    "- $p = \\frac{e^{r \\Delta t} - d}{u - d}$ is the risk-neutral probability of an up-move in the stock price\n",
    "- $u = e^{\\sigma \\sqrt{\\Delta t}}$ and $d = \\frac{1}{u}$ are the up and down factors, respectively\n",
    "- $r$ is the risk-free rate\n",
    "\n",
    "**Convergence Plot for Step Sizes:**\n",
    "\n",
    "To analyze convergence, the butterfly option price is calculated for a range of step sizes ($n$) and plotted.\n",
    "\n",
    "- Set step sizes, e.g., $n = 1, 2, \\dots, 1000$.\n",
    "- Compute butterfly option price for each step size.\n",
    "- Plot the resulting prices as a function of $n$ to visualize convergence.\n",
    "\n",
    "The convergence plot shows how the butterfly option price stabilizes as $n$ increases, indicating the required step size for accurate pricing."
   ]
  },
  {
   "cell_type": "code",
   "execution_count": 29,
   "metadata": {},
   "outputs": [
    {
     "name": "stdout",
     "output_type": "stream",
     "text": [
      "Butterfly Option Prices for Selected Steps:\n",
      "n = 11, Butterfly Option Price = 1.0682\n",
      "n = 111, Butterfly Option Price = 1.1119\n",
      "n = 221, Butterfly Option Price = 1.1047\n",
      "n = 331, Butterfly Option Price = 1.1155\n",
      "n = 441, Butterfly Option Price = 1.1171\n",
      "n = 551, Butterfly Option Price = 1.1146\n",
      "n = 661, Butterfly Option Price = 1.1132\n",
      "n = 771, Butterfly Option Price = 1.1159\n",
      "n = 881, Butterfly Option Price = 1.1173\n",
      "n = 991, Butterfly Option Price = 1.1145\n",
      "\n",
      "The Final Butterfly Option Price after convergence (n = 400) is: $1.114\n"
     ]
    },
    {
     "data": {
      "image/png": "[encoded data removed]",
      "text/plain": [
       "<Figure size 600x500 with 1 Axes>"
      ]
     },
     "metadata": {},
     "output_type": "display_data"
    }
   ],
   "source": [
    "s_0 = 57.03  # Current stock price\n",
    "k1 = 50      # Strike price of the first call option\n",
    "k2 = 55      # Strike price of the second call option\n",
    "k3 = 60      # Strike price of the third call option\n",
    "r = 0.015    # Risk-free rate\n",
    "sigma = 0.15 # Volatility\n",
    "t = 1        # Time to maturity\n",
    "\n",
    "## Function to calculate the price of the butterfly option\n",
    "def binomial_butterfly(s_0, k1, k2, k3, r, sigma, T, n):\n",
    "    dt = T / n\n",
    "    u = np.exp(sigma * np.sqrt(dt)) \n",
    "    d = 1 / u  \n",
    "    p = (np.exp(r * dt) - d) / (u - d) \n",
    "    discount = np.exp(-r * dt)\n",
    "    stock_prices = np.zeros(n + 1)\n",
    "    option_values = np.zeros(n + 1)\n",
    "\n",
    "    for i in range(n + 1):\n",
    "        stock_prices[i] = s_0 * (u ** i) * (d ** (n - i))\n",
    "        sp = stock_prices[i]\n",
    "        long_call1 = max(sp - k1, 0)\n",
    "        short_call = -2 * max(sp - k2, 0)\n",
    "        long_call2 = max(sp - k3, 0)\n",
    "        option_values[i] = long_call1 + short_call + long_call2\n",
    "\n",
    "    for j in range(n - 1, -1, -1):\n",
    "        for i in range(j + 1):\n",
    "            option_values[i] = discount * (p * option_values[i + 1] \n",
    "                                           + (1 - p) * option_values[i])\n",
    "    return option_values[0]\n",
    "\n",
    "step_range = range(1, 1000, 10) \n",
    "prices = []\n",
    "for steps in step_range:\n",
    "    price = binomial_butterfly(s_0, k1, k2, k3, r, sigma, t, steps)\n",
    "    prices.append(price)\n",
    "\n",
    "print(\"Butterfly Option Prices for Selected Steps:\")\n",
    "selected_indices = np.linspace(1, len(step_range) - 1, 10, dtype=int) \n",
    "for idx in selected_indices:\n",
    "    steps = list(step_range)[idx]\n",
    "    price = prices[idx]\n",
    "    print(f\"n = {steps}, Butterfly Option Price = {price:.4f}\")\n",
    "\n",
    "n_400 = 400\n",
    "price_400 = binomial_butterfly(s_0, k1, k2, k3, r, sigma, t, n_400)\n",
    "print(f\"\\nThe Final Butterfly Option Price after convergence (n = {n_400}) is: ${price_400:.3f}\")\n",
    "plt.figure(figsize=(6, 5))\n",
    "plt.plot(step_range, \n",
    "         prices, label='Butterfly Option Price', linestyle='-', linewidth=2)\n",
    "plt.xlabel('Number of Steps (n)')   \n",
    "plt.ylabel('Option Price ($)')\n",
    "plt.title('Option Price vs. Number of Steps')\n",
    "plt.legend()\n",
    "plt.grid(True)\n",
    "plt.show()"
   ]
  },
  {
   "cell_type": "markdown",
   "metadata": {},
   "source": [
    " As $n$ (the number of steps in the binomial tree) increases, the stock price nodes become more granular, allowing the binomial model to better approximate the continuous price paths assumed in models like the Black-Scholes framework. This refinement ensures that the calculated payoff values converge to the theoretical results from the continuous-time model. For this particular strategy, as $n \\to \\infty$, the payoff value converges to approximately $\\$1.114$."
   ]
  },
  {
   "cell_type": "markdown",
   "metadata": {},
   "source": [
    "\\pagebreak\n",
    "# Question 5: Case Study **\\[14 marks\\]**\n",
    "Using the data sources and tools introduced in Workshop 3, along with any relevant material from the lectures, analyze the current state and future outlook of a selected country/economy from a macroeconomic and financial perspective. As a primary suggestion, groups may consider analyzing the United States economy, as most available free data sources focus on this country. However, groups are welcome to choose any country/economy they wish to analyze. Groups MUST include figures and/or tables from various data sources, as well as research reports or studies that justify and support the analysis conducted. The report should be approximately 600/700 words, excluding the bibliography, captions for tables and figures, and any numbers included in tables."
   ]
  },
  {
   "cell_type": "markdown",
   "metadata": {},
   "source": [
    "# Question 6: Case Study **\\[17 marks\\]**\n",
    "Using the data sources and tools introduced in Workshop 3, along with any relevant material from the lectures, analyze the current state and future outlook of a selected publicly traded company (stock) included in a major stock market index, such as the S&P 500 or Russell 2000, among others. The company may be located in a different country than the one chosen in Question 5. As a primary suggestion, groups may consider analyzing a company from the “Magnificent 7”: Apple, Microsoft, Alphabet (Google), Amazon, Nvidia, Tesla, or Meta (Facebook). You should include, at least, a brief introduction to the company (i.e., a description of its main business) and a fundamental analysis.\n",
    "\n",
    "Groups MUST include figures and/or tables from a variety of data sources, as well as research reports or studies that justify and support the analysis conducted. The report should be approximately 600/700 words, excluding the bibliography, captions for tables and figures, and any numbers included in tables.\n",
    "\n",
    "You are not limited to analyzing an “excellent” publicly company/stock; you may also consider a poorly performing company whose stock price may decline, making a short position potentially profitable.\n",
    "\n",
    "Each group, working as financial analysts, must provide a final conclusion based on their analysis by assigning a rating to the company. The rating scale is as follows:\n",
    "- (5) Strong Sell\n",
    "- (4) Sell\n",
    "- (3) Neutral\n",
    "- (2) Buy\n",
    "- (1) Strong Buy\n",
    "\n",
    "Note that calculating a (target) price for the company is not required; simply provide a recommendation based on thorough research and analysis."
   ]
  }
 ],
 "metadata": {
  "kernelspec": {
   "display_name": "base",
   "language": "python",
   "name": "python3"
  },
  "language_info": {
   "codemirror_mode": {
    "name": "ipython",
    "version": 3
   },
   "file_extension": ".py",
   "mimetype": "text/x-python",
   "name": "python",
   "nbconvert_exporter": "python",
   "pygments_lexer": "ipython3",
   "version": "3.11.3"
  }
 },
 "nbformat": 4,
 "nbformat_minor": 2
}
